{
 "cells": [
  {
   "cell_type": "markdown",
   "id": "b6807c93-f372-475c-b3da-159b31cad50a",
   "metadata": {},
   "source": [
    "# Projet : Analyse Prédictive de la Valeur Client (CLV) avec Modélisation RFM"
   ]
  },
  {
   "cell_type": "markdown",
   "id": "a21e9b5f-a241-45ab-8f66-05a09490a0d4",
   "metadata": {},
   "source": [
    "## Le projet a pour but de calculer la valeur à vie des clients (CLV) en combinant la segmentation RFM (Récence, Fréquence, Montant) avec des modèles prédictifs. En segmentant les clients et en prédisant leur valeur future, nous voulons recommander des stratégies adaptées pour chaque groupe, ce qui maximisera le retour sur investissement marketing.\n",
    "\n",
    "Lien du dataset : https://archive.ics.uci.edu/dataset/352/online+retail"
   ]
  },
  {
   "cell_type": "markdown",
   "id": "e7e15e05-b4d2-4532-9c8f-c9e02c5dd45d",
   "metadata": {},
   "source": [
    "# Etape 1 : Nettoyage et Préparation des Données "
   ]
  },
  {
   "cell_type": "code",
   "execution_count": 1,
   "id": "6ccbd4e6-b479-45de-bd08-774612541f6b",
   "metadata": {},
   "outputs": [],
   "source": [
    "#importation des bibliothèques\n",
    "import pandas as pd\n",
    "import numpy as np\n",
    "import matplotlib.pyplot as plt\n",
    "import seaborn as sns\n",
    "import datetime as dt\n",
    "import scipy.stats as st"
   ]
  },
  {
   "cell_type": "code",
   "execution_count": 2,
   "id": "0e6d6fa9-d490-4fe9-a0c8-42efe56e6f9f",
   "metadata": {},
   "outputs": [
    {
     "data": {
      "text/html": [
       "<div>\n",
       "<style scoped>\n",
       "    .dataframe tbody tr th:only-of-type {\n",
       "        vertical-align: middle;\n",
       "    }\n",
       "\n",
       "    .dataframe tbody tr th {\n",
       "        vertical-align: top;\n",
       "    }\n",
       "\n",
       "    .dataframe thead th {\n",
       "        text-align: right;\n",
       "    }\n",
       "</style>\n",
       "<table border=\"1\" class=\"dataframe\">\n",
       "  <thead>\n",
       "    <tr style=\"text-align: right;\">\n",
       "      <th></th>\n",
       "      <th>InvoiceNo</th>\n",
       "      <th>StockCode</th>\n",
       "      <th>Description</th>\n",
       "      <th>Quantity</th>\n",
       "      <th>InvoiceDate</th>\n",
       "      <th>UnitPrice</th>\n",
       "      <th>CustomerID</th>\n",
       "      <th>Country</th>\n",
       "    </tr>\n",
       "  </thead>\n",
       "  <tbody>\n",
       "    <tr>\n",
       "      <th>0</th>\n",
       "      <td>536365</td>\n",
       "      <td>85123A</td>\n",
       "      <td>WHITE HANGING HEART T-LIGHT HOLDER</td>\n",
       "      <td>6</td>\n",
       "      <td>2010-12-01 08:26:00</td>\n",
       "      <td>2.55</td>\n",
       "      <td>17850.0</td>\n",
       "      <td>United Kingdom</td>\n",
       "    </tr>\n",
       "    <tr>\n",
       "      <th>1</th>\n",
       "      <td>536365</td>\n",
       "      <td>71053</td>\n",
       "      <td>WHITE METAL LANTERN</td>\n",
       "      <td>6</td>\n",
       "      <td>2010-12-01 08:26:00</td>\n",
       "      <td>3.39</td>\n",
       "      <td>17850.0</td>\n",
       "      <td>United Kingdom</td>\n",
       "    </tr>\n",
       "    <tr>\n",
       "      <th>2</th>\n",
       "      <td>536365</td>\n",
       "      <td>84406B</td>\n",
       "      <td>CREAM CUPID HEARTS COAT HANGER</td>\n",
       "      <td>8</td>\n",
       "      <td>2010-12-01 08:26:00</td>\n",
       "      <td>2.75</td>\n",
       "      <td>17850.0</td>\n",
       "      <td>United Kingdom</td>\n",
       "    </tr>\n",
       "    <tr>\n",
       "      <th>3</th>\n",
       "      <td>536365</td>\n",
       "      <td>84029G</td>\n",
       "      <td>KNITTED UNION FLAG HOT WATER BOTTLE</td>\n",
       "      <td>6</td>\n",
       "      <td>2010-12-01 08:26:00</td>\n",
       "      <td>3.39</td>\n",
       "      <td>17850.0</td>\n",
       "      <td>United Kingdom</td>\n",
       "    </tr>\n",
       "    <tr>\n",
       "      <th>4</th>\n",
       "      <td>536365</td>\n",
       "      <td>84029E</td>\n",
       "      <td>RED WOOLLY HOTTIE WHITE HEART.</td>\n",
       "      <td>6</td>\n",
       "      <td>2010-12-01 08:26:00</td>\n",
       "      <td>3.39</td>\n",
       "      <td>17850.0</td>\n",
       "      <td>United Kingdom</td>\n",
       "    </tr>\n",
       "  </tbody>\n",
       "</table>\n",
       "</div>"
      ],
      "text/plain": [
       "  InvoiceNo StockCode                          Description  Quantity  \\\n",
       "0    536365    85123A   WHITE HANGING HEART T-LIGHT HOLDER         6   \n",
       "1    536365     71053                  WHITE METAL LANTERN         6   \n",
       "2    536365    84406B       CREAM CUPID HEARTS COAT HANGER         8   \n",
       "3    536365    84029G  KNITTED UNION FLAG HOT WATER BOTTLE         6   \n",
       "4    536365    84029E       RED WOOLLY HOTTIE WHITE HEART.         6   \n",
       "\n",
       "          InvoiceDate  UnitPrice  CustomerID         Country  \n",
       "0 2010-12-01 08:26:00       2.55     17850.0  United Kingdom  \n",
       "1 2010-12-01 08:26:00       3.39     17850.0  United Kingdom  \n",
       "2 2010-12-01 08:26:00       2.75     17850.0  United Kingdom  \n",
       "3 2010-12-01 08:26:00       3.39     17850.0  United Kingdom  \n",
       "4 2010-12-01 08:26:00       3.39     17850.0  United Kingdom  "
      ]
     },
     "execution_count": 2,
     "metadata": {},
     "output_type": "execute_result"
    }
   ],
   "source": [
    "# Chargement des données\n",
    "df = pd.read_excel('Online Retail.xlsx')\n",
    "df.head() "
   ]
  },
  {
   "cell_type": "code",
   "execution_count": 3,
   "id": "7625d34a-b411-4b56-996d-895b67b7f356",
   "metadata": {},
   "outputs": [
    {
     "name": "stdout",
     "output_type": "stream",
     "text": [
      "<class 'pandas.core.frame.DataFrame'>\n",
      "RangeIndex: 541909 entries, 0 to 541908\n",
      "Data columns (total 8 columns):\n",
      " #   Column       Non-Null Count   Dtype         \n",
      "---  ------       --------------   -----         \n",
      " 0   InvoiceNo    541909 non-null  object        \n",
      " 1   StockCode    541909 non-null  object        \n",
      " 2   Description  540455 non-null  object        \n",
      " 3   Quantity     541909 non-null  int64         \n",
      " 4   InvoiceDate  541909 non-null  datetime64[ns]\n",
      " 5   UnitPrice    541909 non-null  float64       \n",
      " 6   CustomerID   406829 non-null  float64       \n",
      " 7   Country      541909 non-null  object        \n",
      "dtypes: datetime64[ns](1), float64(2), int64(1), object(4)\n",
      "memory usage: 33.1+ MB\n"
     ]
    }
   ],
   "source": [
    "df.info()"
   ]
  },
  {
   "cell_type": "markdown",
   "id": "7f24cb4d-fd8a-44f5-a4f9-07fed278e101",
   "metadata": {},
   "source": [
    "Les colonnes sont au bon format de type mais nous remarquons qu'il ya des valeurs manquantes dans les variables Description et CustomerID, nous traiterons cela plutard, continuons notre petite enquète sur les données."
   ]
  },
  {
   "cell_type": "code",
   "execution_count": 4,
   "id": "8d144cad-7508-4e2f-926f-be39eb0f3e3b",
   "metadata": {},
   "outputs": [
    {
     "data": {
      "text/html": [
       "<div>\n",
       "<style scoped>\n",
       "    .dataframe tbody tr th:only-of-type {\n",
       "        vertical-align: middle;\n",
       "    }\n",
       "\n",
       "    .dataframe tbody tr th {\n",
       "        vertical-align: top;\n",
       "    }\n",
       "\n",
       "    .dataframe thead th {\n",
       "        text-align: right;\n",
       "    }\n",
       "</style>\n",
       "<table border=\"1\" class=\"dataframe\">\n",
       "  <thead>\n",
       "    <tr style=\"text-align: right;\">\n",
       "      <th></th>\n",
       "      <th>Quantity</th>\n",
       "      <th>InvoiceDate</th>\n",
       "      <th>UnitPrice</th>\n",
       "      <th>CustomerID</th>\n",
       "    </tr>\n",
       "  </thead>\n",
       "  <tbody>\n",
       "    <tr>\n",
       "      <th>count</th>\n",
       "      <td>541909.000000</td>\n",
       "      <td>541909</td>\n",
       "      <td>541909.000000</td>\n",
       "      <td>406829.000000</td>\n",
       "    </tr>\n",
       "    <tr>\n",
       "      <th>mean</th>\n",
       "      <td>9.552250</td>\n",
       "      <td>2011-07-04 13:34:57.156386048</td>\n",
       "      <td>4.611114</td>\n",
       "      <td>15287.690570</td>\n",
       "    </tr>\n",
       "    <tr>\n",
       "      <th>min</th>\n",
       "      <td>-80995.000000</td>\n",
       "      <td>2010-12-01 08:26:00</td>\n",
       "      <td>-11062.060000</td>\n",
       "      <td>12346.000000</td>\n",
       "    </tr>\n",
       "    <tr>\n",
       "      <th>25%</th>\n",
       "      <td>1.000000</td>\n",
       "      <td>2011-03-28 11:34:00</td>\n",
       "      <td>1.250000</td>\n",
       "      <td>13953.000000</td>\n",
       "    </tr>\n",
       "    <tr>\n",
       "      <th>50%</th>\n",
       "      <td>3.000000</td>\n",
       "      <td>2011-07-19 17:17:00</td>\n",
       "      <td>2.080000</td>\n",
       "      <td>15152.000000</td>\n",
       "    </tr>\n",
       "    <tr>\n",
       "      <th>75%</th>\n",
       "      <td>10.000000</td>\n",
       "      <td>2011-10-19 11:27:00</td>\n",
       "      <td>4.130000</td>\n",
       "      <td>16791.000000</td>\n",
       "    </tr>\n",
       "    <tr>\n",
       "      <th>max</th>\n",
       "      <td>80995.000000</td>\n",
       "      <td>2011-12-09 12:50:00</td>\n",
       "      <td>38970.000000</td>\n",
       "      <td>18287.000000</td>\n",
       "    </tr>\n",
       "    <tr>\n",
       "      <th>std</th>\n",
       "      <td>218.081158</td>\n",
       "      <td>NaN</td>\n",
       "      <td>96.759853</td>\n",
       "      <td>1713.600303</td>\n",
       "    </tr>\n",
       "  </tbody>\n",
       "</table>\n",
       "</div>"
      ],
      "text/plain": [
       "            Quantity                    InvoiceDate      UnitPrice  \\\n",
       "count  541909.000000                         541909  541909.000000   \n",
       "mean        9.552250  2011-07-04 13:34:57.156386048       4.611114   \n",
       "min    -80995.000000            2010-12-01 08:26:00  -11062.060000   \n",
       "25%         1.000000            2011-03-28 11:34:00       1.250000   \n",
       "50%         3.000000            2011-07-19 17:17:00       2.080000   \n",
       "75%        10.000000            2011-10-19 11:27:00       4.130000   \n",
       "max     80995.000000            2011-12-09 12:50:00   38970.000000   \n",
       "std       218.081158                            NaN      96.759853   \n",
       "\n",
       "          CustomerID  \n",
       "count  406829.000000  \n",
       "mean    15287.690570  \n",
       "min     12346.000000  \n",
       "25%     13953.000000  \n",
       "50%     15152.000000  \n",
       "75%     16791.000000  \n",
       "max     18287.000000  \n",
       "std      1713.600303  "
      ]
     },
     "execution_count": 4,
     "metadata": {},
     "output_type": "execute_result"
    }
   ],
   "source": [
    "df.describe()"
   ]
  },
  {
   "cell_type": "markdown",
   "id": "b03897b7-af43-41bf-92bb-389ba28d5fef",
   "metadata": {},
   "source": [
    "Nous remarquons de l'analyse de ces statistisques qu'il ya des valeurs de Quantity et d'UnitPrice qui sont négatives, ces dernières doivent correspondre aux retours de produits ou erreurs de saisie, nous allons les gérer tout de suite."
   ]
  },
  {
   "cell_type": "code",
   "execution_count": 5,
   "id": "defd1999-3ad9-4494-9e72-b0cb3f000e15",
   "metadata": {},
   "outputs": [
    {
     "name": "stdout",
     "output_type": "stream",
     "text": [
      "Transactions avec valeurs négatives dans Quantity ou UnitPrice:\n"
     ]
    },
    {
     "data": {
      "text/html": [
       "<div>\n",
       "<style scoped>\n",
       "    .dataframe tbody tr th:only-of-type {\n",
       "        vertical-align: middle;\n",
       "    }\n",
       "\n",
       "    .dataframe tbody tr th {\n",
       "        vertical-align: top;\n",
       "    }\n",
       "\n",
       "    .dataframe thead th {\n",
       "        text-align: right;\n",
       "    }\n",
       "</style>\n",
       "<table border=\"1\" class=\"dataframe\">\n",
       "  <thead>\n",
       "    <tr style=\"text-align: right;\">\n",
       "      <th></th>\n",
       "      <th>InvoiceNo</th>\n",
       "      <th>Quantity</th>\n",
       "      <th>UnitPrice</th>\n",
       "      <th>CustomerID</th>\n",
       "    </tr>\n",
       "  </thead>\n",
       "  <tbody>\n",
       "    <tr>\n",
       "      <th>141</th>\n",
       "      <td>C536379</td>\n",
       "      <td>-1</td>\n",
       "      <td>27.50</td>\n",
       "      <td>14527.0</td>\n",
       "    </tr>\n",
       "    <tr>\n",
       "      <th>154</th>\n",
       "      <td>C536383</td>\n",
       "      <td>-1</td>\n",
       "      <td>4.65</td>\n",
       "      <td>15311.0</td>\n",
       "    </tr>\n",
       "    <tr>\n",
       "      <th>235</th>\n",
       "      <td>C536391</td>\n",
       "      <td>-12</td>\n",
       "      <td>1.65</td>\n",
       "      <td>17548.0</td>\n",
       "    </tr>\n",
       "    <tr>\n",
       "      <th>236</th>\n",
       "      <td>C536391</td>\n",
       "      <td>-24</td>\n",
       "      <td>0.29</td>\n",
       "      <td>17548.0</td>\n",
       "    </tr>\n",
       "    <tr>\n",
       "      <th>237</th>\n",
       "      <td>C536391</td>\n",
       "      <td>-24</td>\n",
       "      <td>0.29</td>\n",
       "      <td>17548.0</td>\n",
       "    </tr>\n",
       "  </tbody>\n",
       "</table>\n",
       "</div>"
      ],
      "text/plain": [
       "    InvoiceNo  Quantity  UnitPrice  CustomerID\n",
       "141   C536379        -1      27.50     14527.0\n",
       "154   C536383        -1       4.65     15311.0\n",
       "235   C536391       -12       1.65     17548.0\n",
       "236   C536391       -24       0.29     17548.0\n",
       "237   C536391       -24       0.29     17548.0"
      ]
     },
     "execution_count": 5,
     "metadata": {},
     "output_type": "execute_result"
    }
   ],
   "source": [
    "#  1. Filtrons les transactions avec des valeurs négatives dans Quantity ou UnitPrice\n",
    "negative_values = df[(df['Quantity'] < 0) | (df['UnitPrice'] < 0)]\n",
    "print(\"Transactions avec valeurs négatives dans Quantity ou UnitPrice:\")\n",
    "negative_values[['InvoiceNo', 'Quantity', 'UnitPrice', 'CustomerID']].head()"
   ]
  },
  {
   "cell_type": "code",
   "execution_count": 6,
   "id": "612ae617-7e5b-4350-81f9-72fda719cf2a",
   "metadata": {},
   "outputs": [
    {
     "name": "stdout",
     "output_type": "stream",
     "text": [
      "\n",
      "Transactions marquées comme annulations (InvoiceNo commence par 'C'):\n"
     ]
    },
    {
     "data": {
      "text/html": [
       "<div>\n",
       "<style scoped>\n",
       "    .dataframe tbody tr th:only-of-type {\n",
       "        vertical-align: middle;\n",
       "    }\n",
       "\n",
       "    .dataframe tbody tr th {\n",
       "        vertical-align: top;\n",
       "    }\n",
       "\n",
       "    .dataframe thead th {\n",
       "        text-align: right;\n",
       "    }\n",
       "</style>\n",
       "<table border=\"1\" class=\"dataframe\">\n",
       "  <thead>\n",
       "    <tr style=\"text-align: right;\">\n",
       "      <th></th>\n",
       "      <th>InvoiceNo</th>\n",
       "      <th>Quantity</th>\n",
       "      <th>UnitPrice</th>\n",
       "      <th>CustomerID</th>\n",
       "    </tr>\n",
       "  </thead>\n",
       "  <tbody>\n",
       "    <tr>\n",
       "      <th>141</th>\n",
       "      <td>C536379</td>\n",
       "      <td>-1</td>\n",
       "      <td>27.50</td>\n",
       "      <td>14527.0</td>\n",
       "    </tr>\n",
       "    <tr>\n",
       "      <th>154</th>\n",
       "      <td>C536383</td>\n",
       "      <td>-1</td>\n",
       "      <td>4.65</td>\n",
       "      <td>15311.0</td>\n",
       "    </tr>\n",
       "    <tr>\n",
       "      <th>235</th>\n",
       "      <td>C536391</td>\n",
       "      <td>-12</td>\n",
       "      <td>1.65</td>\n",
       "      <td>17548.0</td>\n",
       "    </tr>\n",
       "    <tr>\n",
       "      <th>236</th>\n",
       "      <td>C536391</td>\n",
       "      <td>-24</td>\n",
       "      <td>0.29</td>\n",
       "      <td>17548.0</td>\n",
       "    </tr>\n",
       "    <tr>\n",
       "      <th>237</th>\n",
       "      <td>C536391</td>\n",
       "      <td>-24</td>\n",
       "      <td>0.29</td>\n",
       "      <td>17548.0</td>\n",
       "    </tr>\n",
       "  </tbody>\n",
       "</table>\n",
       "</div>"
      ],
      "text/plain": [
       "    InvoiceNo  Quantity  UnitPrice  CustomerID\n",
       "141   C536379        -1      27.50     14527.0\n",
       "154   C536383        -1       4.65     15311.0\n",
       "235   C536391       -12       1.65     17548.0\n",
       "236   C536391       -24       0.29     17548.0\n",
       "237   C536391       -24       0.29     17548.0"
      ]
     },
     "execution_count": 6,
     "metadata": {},
     "output_type": "execute_result"
    }
   ],
   "source": [
    "# 2. Identifier les transactions avec InvoiceNo commençant par 'C' (indiquant des annulations, cela a été stipulé dans le dataset)\n",
    "cancellations = df[df['InvoiceNo'].astype(str).str.startswith('C')]\n",
    "print(\"\\nTransactions marquées comme annulations (InvoiceNo commence par 'C'):\")\n",
    "cancellations[['InvoiceNo', 'Quantity', 'UnitPrice', 'CustomerID']].head()\n"
   ]
  },
  {
   "cell_type": "code",
   "execution_count": 7,
   "id": "d5e169d5-a2e4-4986-83dc-8746a7d57848",
   "metadata": {},
   "outputs": [
    {
     "name": "stdout",
     "output_type": "stream",
     "text": [
      "\n",
      "Nombre de transactions avec valeurs négatives : 10626\n",
      "Nombre de transactions annulées parmi celles-ci : 9288\n"
     ]
    }
   ],
   "source": [
    "# 3. Vérifier la proportion des transactions annulées par rapport aux transactions avec des valeurs négatives\n",
    "# Combien de transactions avec valeurs négatives sont des annulations\n",
    "negative_cancellations = negative_values[negative_values['InvoiceNo'].astype(str).str.startswith('C')]\n",
    "print(f\"\\nNombre de transactions avec valeurs négatives : {len(negative_values)}\")\n",
    "print(f\"Nombre de transactions annulées parmi celles-ci : {len(negative_cancellations)}\")"
   ]
  },
  {
   "cell_type": "code",
   "execution_count": 8,
   "id": "1213c039-240f-491f-aa9e-20eac3255e19",
   "metadata": {},
   "outputs": [
    {
     "name": "stdout",
     "output_type": "stream",
     "text": [
      "\n",
      "Pourcentage de transactions annulées parmi celles avec valeurs négatives : 87.41%\n"
     ]
    }
   ],
   "source": [
    "# 4. Calculer le pourcentage de transactions annulées parmi celles avec des valeurs négatives\n",
    "percentage_cancelled = len(negative_cancellations) / len(negative_values) * 100 if len(negative_values) > 0 else 0\n",
    "print(f\"\\nPourcentage de transactions annulées parmi celles avec valeurs négatives : {percentage_cancelled:.2f}%\")"
   ]
  },
  {
   "cell_type": "markdown",
   "id": "cca60fc4-4d25-4e46-936f-74b06e1c61d2",
   "metadata": {},
   "source": [
    "L'on remarque que la grande majorité des valeurs négatives, correspondent à des transactions annulées.\n",
    "\n",
    "Afin d'assurer la robustesse de notre analyse, nous allons travailler avec 2 dataframes, l'un comprenant les valeurs retournées et l'autre non: df_r et df_nr. Avant repartir comme cela , nous allons gérer les valeurs manquantes, en effet, les valeurs manquantes apparaissent comme vu plus haut dans les colonnes Description et CustomerID."
   ]
  },
  {
   "cell_type": "code",
   "execution_count": 9,
   "id": "1ad90320-5ec6-488f-a19d-65a13e999bf4",
   "metadata": {},
   "outputs": [
    {
     "data": {
      "text/plain": [
       "Description      1454\n",
       "CustomerID     135080\n",
       "dtype: int64"
      ]
     },
     "execution_count": 9,
     "metadata": {},
     "output_type": "execute_result"
    }
   ],
   "source": [
    "# Vérifier les nombres de valeurs manquantes dans chaque colonne\n",
    "nb_na = df.isnull().sum()\n",
    "nb_na[nb_na>0]"
   ]
  },
  {
   "cell_type": "markdown",
   "id": "b58df45c-3194-4b77-b584-4971f6ff51ad",
   "metadata": {},
   "source": [
    "Nous supprimerons toutes ces valeurs car cela éliminera les transactions sans client identifiable, qui sont des transactions sans importance pour l’analyse de la CLV et de la segmentation client. De meme, l'abscence de description de produits rend difficile l'interprétation de la transaction. Cela étant dit:"
   ]
  },
  {
   "cell_type": "code",
   "execution_count": 10,
   "id": "adf26ec7-3fc7-4e9c-be7d-962a25be10a3",
   "metadata": {},
   "outputs": [
    {
     "name": "stdout",
     "output_type": "stream",
     "text": [
      "Vérification des valeurs manquantes après traitement :\n",
      "InvoiceNo      0\n",
      "StockCode      0\n",
      "Description    0\n",
      "Quantity       0\n",
      "InvoiceDate    0\n",
      "UnitPrice      0\n",
      "CustomerID     0\n",
      "Country        0\n",
      "dtype: int64\n"
     ]
    }
   ],
   "source": [
    "# Supprimer les lignes avec des valeurs manquantes dans CustomerID ou Description\n",
    "df = df.dropna(subset=['CustomerID', 'Description'])\n",
    "\n",
    "# Vérification rapide après suppression des valeurs manquantes\n",
    "print(\"Vérification des valeurs manquantes après traitement :\")\n",
    "print(df.isnull().sum())"
   ]
  },
  {
   "cell_type": "code",
   "execution_count": 11,
   "id": "b6000d51-c480-4e00-a33c-caefd3228770",
   "metadata": {},
   "outputs": [
    {
     "name": "stdout",
     "output_type": "stream",
     "text": [
      "Nombre de transactions dans le dataset original : 406829\n",
      "Nombre de transactions dans df_r (avec retours) : 406829\n",
      "Nombre de transactions dans df_nr (sans retours) : 397924\n",
      "\n",
      "Transactions annulées dans df_r (où IsCancellation est True) :\n",
      "    InvoiceNo  Quantity  UnitPrice  NetAmount  IsCancellation\n",
      "141   C536379        -1      27.50     -27.50            True\n",
      "154   C536383        -1       4.65      -4.65            True\n",
      "235   C536391       -12       1.65     -19.80            True\n",
      "236   C536391       -24       0.29      -6.96            True\n",
      "237   C536391       -24       0.29      -6.96            True\n"
     ]
    }
   ],
   "source": [
    "# df_r : dataframe avec les retours de produits\n",
    "# df_nr : dataframe sans les retours de produits\n",
    "\n",
    "# Créons deux copies du dataframe d'origine pour chaque version de l'analyse\n",
    "df_r = df.copy()\n",
    "df_nr = df[~((df['Quantity'] < 0) | (df['InvoiceNo'].astype(str).str.startswith('C')))].copy()\n",
    "\n",
    "# Calculons le montant net (NetAmount) dans la version incluant les retours\n",
    "df_r['NetAmount'] = df_r['Quantity'] * df_r['UnitPrice']\n",
    "\n",
    "# Ajoutons une colonne pour indiquer si la transaction est une annulation (utile pour l'analyse des retours)\n",
    "df_r['IsCancellation'] = df_r['InvoiceNo'].astype(str).str.startswith('C')\n",
    "\n",
    "# Vérification rapide du nombre de transactions dans chaque version du dataframe\n",
    "print(f\"Nombre de transactions dans le dataset original : {len(df)}\")\n",
    "print(f\"Nombre de transactions dans df_r (avec retours) : {len(df_r)}\")\n",
    "print(f\"Nombre de transactions dans df_nr (sans retours) : {len(df_nr)}\")\n",
    "\n",
    "# Aperçu rapide des transactions annulées dans df_r pour confirmer l'ajout de 'IsCancellation'\n",
    "print(\"\\nTransactions annulées dans df_r (où IsCancellation est True) :\")\n",
    "print(df_r[df_r['IsCancellation'] == True][['InvoiceNo', 'Quantity', 'UnitPrice', 'NetAmount', 'IsCancellation']].head())\n"
   ]
  },
  {
   "cell_type": "code",
   "execution_count": 12,
   "id": "2d71a547-384a-4aca-83fc-07bbe8d7dc1a",
   "metadata": {},
   "outputs": [
    {
     "name": "stdout",
     "output_type": "stream",
     "text": [
      "Aperçu des nouvelles variables dans df_r :\n",
      "   CustomerID         InvoiceDate   FirstPurchaseDate  CustomerAge\n",
      "0     17850.0 2010-12-01 08:26:00 2010-12-01 08:26:00            0\n",
      "1     17850.0 2010-12-01 08:26:00 2010-12-01 08:26:00            0\n",
      "2     17850.0 2010-12-01 08:26:00 2010-12-01 08:26:00            0\n",
      "3     17850.0 2010-12-01 08:26:00 2010-12-01 08:26:00            0\n",
      "4     17850.0 2010-12-01 08:26:00 2010-12-01 08:26:00            0\n",
      "\n",
      "Aperçu des nouvelles variables dans df_nr :\n",
      "   CustomerID         InvoiceDate   FirstPurchaseDate  CustomerAge\n",
      "0     17850.0 2010-12-01 08:26:00 2010-12-01 08:26:00            0\n",
      "1     17850.0 2010-12-01 08:26:00 2010-12-01 08:26:00            0\n",
      "2     17850.0 2010-12-01 08:26:00 2010-12-01 08:26:00            0\n",
      "3     17850.0 2010-12-01 08:26:00 2010-12-01 08:26:00            0\n",
      "4     17850.0 2010-12-01 08:26:00 2010-12-01 08:26:00            0\n"
     ]
    }
   ],
   "source": [
    "# Création de variables temporelles comme l’âge du client (temps écoulé depuis son premier achat), ici il sera en jours. \n",
    "\n",
    "# Calculer la date du premier achat de chaque client dans chaque dataframe\n",
    "first_purchase_r = df_r.groupby('CustomerID')['InvoiceDate'].min().reset_index()\n",
    "first_purchase_nr = df_nr.groupby('CustomerID')['InvoiceDate'].min().reset_index()\n",
    "\n",
    "# Renommer la colonne pour indiquer qu'il s'agit de la date du premier achat\n",
    "first_purchase_r.rename(columns={'InvoiceDate': 'FirstPurchaseDate'}, inplace=True)\n",
    "first_purchase_nr.rename(columns={'InvoiceDate': 'FirstPurchaseDate'}, inplace=True)\n",
    "\n",
    "# Fusionner cette information dans chaque dataframe\n",
    "df_r = df_r.merge(first_purchase_r, on='CustomerID', how='left')\n",
    "df_nr = df_nr.merge(first_purchase_nr, on='CustomerID', how='left')\n",
    "\n",
    "# Calculer l'âge du client en jours au moment de chaque transaction\n",
    "df_r['CustomerAge'] = (df_r['InvoiceDate'] - df_r['FirstPurchaseDate']).dt.days\n",
    "df_nr['CustomerAge'] = (df_nr['InvoiceDate'] - df_nr['FirstPurchaseDate']).dt.days\n",
    "\n",
    "# Vérification\n",
    "print(\"Aperçu des nouvelles variables dans df_r :\")\n",
    "print(df_r[['CustomerID', 'InvoiceDate', 'FirstPurchaseDate', 'CustomerAge']].head())\n",
    "\n",
    "print(\"\\nAperçu des nouvelles variables dans df_nr :\")\n",
    "print(df_nr[['CustomerID', 'InvoiceDate', 'FirstPurchaseDate', 'CustomerAge']].head())\n"
   ]
  },
  {
   "cell_type": "code",
   "execution_count": 13,
   "id": "eab57aa1-4bd7-4885-ac4f-b62f7c3958e4",
   "metadata": {},
   "outputs": [
    {
     "data": {
      "text/html": [
       "<div>\n",
       "<style scoped>\n",
       "    .dataframe tbody tr th:only-of-type {\n",
       "        vertical-align: middle;\n",
       "    }\n",
       "\n",
       "    .dataframe tbody tr th {\n",
       "        vertical-align: top;\n",
       "    }\n",
       "\n",
       "    .dataframe thead th {\n",
       "        text-align: right;\n",
       "    }\n",
       "</style>\n",
       "<table border=\"1\" class=\"dataframe\">\n",
       "  <thead>\n",
       "    <tr style=\"text-align: right;\">\n",
       "      <th></th>\n",
       "      <th>InvoiceNo</th>\n",
       "      <th>StockCode</th>\n",
       "      <th>Description</th>\n",
       "      <th>Quantity</th>\n",
       "      <th>InvoiceDate</th>\n",
       "      <th>UnitPrice</th>\n",
       "      <th>CustomerID</th>\n",
       "      <th>Country</th>\n",
       "      <th>FirstPurchaseDate</th>\n",
       "      <th>CustomerAge</th>\n",
       "    </tr>\n",
       "  </thead>\n",
       "  <tbody>\n",
       "    <tr>\n",
       "      <th>1952</th>\n",
       "      <td>536600</td>\n",
       "      <td>85123A</td>\n",
       "      <td>WHITE HANGING HEART T-LIGHT HOLDER</td>\n",
       "      <td>6</td>\n",
       "      <td>2010-12-02 08:32:00</td>\n",
       "      <td>2.55</td>\n",
       "      <td>17850.0</td>\n",
       "      <td>United Kingdom</td>\n",
       "      <td>2010-12-01 08:26:00</td>\n",
       "      <td>1</td>\n",
       "    </tr>\n",
       "    <tr>\n",
       "      <th>1953</th>\n",
       "      <td>536600</td>\n",
       "      <td>71053</td>\n",
       "      <td>WHITE METAL LANTERN</td>\n",
       "      <td>6</td>\n",
       "      <td>2010-12-02 08:32:00</td>\n",
       "      <td>3.39</td>\n",
       "      <td>17850.0</td>\n",
       "      <td>United Kingdom</td>\n",
       "      <td>2010-12-01 08:26:00</td>\n",
       "      <td>1</td>\n",
       "    </tr>\n",
       "    <tr>\n",
       "      <th>1954</th>\n",
       "      <td>536600</td>\n",
       "      <td>82483</td>\n",
       "      <td>WOOD 2 DRAWER CABINET WHITE FINISH</td>\n",
       "      <td>4</td>\n",
       "      <td>2010-12-02 08:32:00</td>\n",
       "      <td>4.95</td>\n",
       "      <td>17850.0</td>\n",
       "      <td>United Kingdom</td>\n",
       "      <td>2010-12-01 08:26:00</td>\n",
       "      <td>1</td>\n",
       "    </tr>\n",
       "    <tr>\n",
       "      <th>1955</th>\n",
       "      <td>536600</td>\n",
       "      <td>82486</td>\n",
       "      <td>WOOD S/3 CABINET ANT WHITE FINISH</td>\n",
       "      <td>2</td>\n",
       "      <td>2010-12-02 08:32:00</td>\n",
       "      <td>6.95</td>\n",
       "      <td>17850.0</td>\n",
       "      <td>United Kingdom</td>\n",
       "      <td>2010-12-01 08:26:00</td>\n",
       "      <td>1</td>\n",
       "    </tr>\n",
       "    <tr>\n",
       "      <th>1956</th>\n",
       "      <td>536600</td>\n",
       "      <td>82482</td>\n",
       "      <td>WOODEN PICTURE FRAME WHITE FINISH</td>\n",
       "      <td>6</td>\n",
       "      <td>2010-12-02 08:32:00</td>\n",
       "      <td>2.10</td>\n",
       "      <td>17850.0</td>\n",
       "      <td>United Kingdom</td>\n",
       "      <td>2010-12-01 08:26:00</td>\n",
       "      <td>1</td>\n",
       "    </tr>\n",
       "  </tbody>\n",
       "</table>\n",
       "</div>"
      ],
      "text/plain": [
       "     InvoiceNo StockCode                         Description  Quantity  \\\n",
       "1952    536600    85123A  WHITE HANGING HEART T-LIGHT HOLDER         6   \n",
       "1953    536600     71053                 WHITE METAL LANTERN         6   \n",
       "1954    536600     82483  WOOD 2 DRAWER CABINET WHITE FINISH         4   \n",
       "1955    536600     82486   WOOD S/3 CABINET ANT WHITE FINISH         2   \n",
       "1956    536600     82482   WOODEN PICTURE FRAME WHITE FINISH         6   \n",
       "\n",
       "             InvoiceDate  UnitPrice  CustomerID         Country  \\\n",
       "1952 2010-12-02 08:32:00       2.55     17850.0  United Kingdom   \n",
       "1953 2010-12-02 08:32:00       3.39     17850.0  United Kingdom   \n",
       "1954 2010-12-02 08:32:00       4.95     17850.0  United Kingdom   \n",
       "1955 2010-12-02 08:32:00       6.95     17850.0  United Kingdom   \n",
       "1956 2010-12-02 08:32:00       2.10     17850.0  United Kingdom   \n",
       "\n",
       "       FirstPurchaseDate  CustomerAge  \n",
       "1952 2010-12-01 08:26:00            1  \n",
       "1953 2010-12-01 08:26:00            1  \n",
       "1954 2010-12-01 08:26:00            1  \n",
       "1955 2010-12-01 08:26:00            1  \n",
       "1956 2010-12-01 08:26:00            1  "
      ]
     },
     "execution_count": 13,
     "metadata": {},
     "output_type": "execute_result"
    }
   ],
   "source": [
    "''' Juste pour voir s'il ya des CustomerAge > 0 , je ne sais pas si cette variable est assez précise, \n",
    "je pense que ce serait mieux de trouver les ages en heures, mais pour le moment, continuons, on affinera au possible après '''\n",
    "\n",
    "df_nr.loc[df_nr['CustomerAge'] > 0].head()"
   ]
  },
  {
   "cell_type": "code",
   "execution_count": 14,
   "id": "3841a50c-c154-41bc-b989-60c4af0b40eb",
   "metadata": {},
   "outputs": [
    {
     "name": "stdout",
     "output_type": "stream",
     "text": [
      "Aperçu des nouvelles variables dans df_r :\n",
      "       CustomerID         InvoiceDate  DaysSinceLastPurchase\n",
      "38120     12346.0 2011-01-18 10:01:00                    0.0\n",
      "38125     12346.0 2011-01-18 10:17:00                    0.0\n",
      "10667     12347.0 2010-12-07 14:57:00                    0.0\n",
      "10668     12347.0 2010-12-07 14:57:00                    0.0\n",
      "10669     12347.0 2010-12-07 14:57:00                    0.0\n",
      "10670     12347.0 2010-12-07 14:57:00                    0.0\n",
      "10671     12347.0 2010-12-07 14:57:00                    0.0\n",
      "10672     12347.0 2010-12-07 14:57:00                    0.0\n",
      "10673     12347.0 2010-12-07 14:57:00                    0.0\n",
      "10674     12347.0 2010-12-07 14:57:00                    0.0\n",
      "\n",
      "Aperçu des nouvelles variables dans df_nr :\n",
      "       CustomerID         InvoiceDate  DaysSinceLastPurchase\n",
      "37126     12346.0 2011-01-18 10:01:00                    0.0\n",
      "10516     12347.0 2010-12-07 14:57:00                    0.0\n",
      "10517     12347.0 2010-12-07 14:57:00                    0.0\n",
      "10518     12347.0 2010-12-07 14:57:00                    0.0\n",
      "10519     12347.0 2010-12-07 14:57:00                    0.0\n",
      "10520     12347.0 2010-12-07 14:57:00                    0.0\n",
      "10521     12347.0 2010-12-07 14:57:00                    0.0\n",
      "10522     12347.0 2010-12-07 14:57:00                    0.0\n",
      "10523     12347.0 2010-12-07 14:57:00                    0.0\n",
      "10524     12347.0 2010-12-07 14:57:00                    0.0\n"
     ]
    },
    {
     "name": "stderr",
     "output_type": "stream",
     "text": [
      "C:\\Users\\aubai\\AppData\\Local\\Temp\\ipykernel_71456\\1629609006.py:12: FutureWarning: A value is trying to be set on a copy of a DataFrame or Series through chained assignment using an inplace method.\n",
      "The behavior will change in pandas 3.0. This inplace method will never work because the intermediate object on which we are setting values always behaves as a copy.\n",
      "\n",
      "For example, when doing 'df[col].method(value, inplace=True)', try using 'df.method({col: value}, inplace=True)' or df[col] = df[col].method(value) instead, to perform the operation inplace on the original object.\n",
      "\n",
      "\n",
      "  df_r['DaysSinceLastPurchase'].fillna(0, inplace=True)\n",
      "C:\\Users\\aubai\\AppData\\Local\\Temp\\ipykernel_71456\\1629609006.py:13: FutureWarning: A value is trying to be set on a copy of a DataFrame or Series through chained assignment using an inplace method.\n",
      "The behavior will change in pandas 3.0. This inplace method will never work because the intermediate object on which we are setting values always behaves as a copy.\n",
      "\n",
      "For example, when doing 'df[col].method(value, inplace=True)', try using 'df.method({col: value}, inplace=True)' or df[col] = df[col].method(value) instead, to perform the operation inplace on the original object.\n",
      "\n",
      "\n",
      "  df_nr['DaysSinceLastPurchase'].fillna(0, inplace=True)\n"
     ]
    }
   ],
   "source": [
    "# Conversion des dates en format exploitable (durée entre deux achats, etc.), ca nous sera utile pour la RFM\n",
    "\n",
    "# Pour chaque dataframe, trier les transactions par CustomerID et InvoiceDate\n",
    "df_r = df_r.sort_values(by=['CustomerID', 'InvoiceDate'])\n",
    "df_nr = df_nr.sort_values(by=['CustomerID', 'InvoiceDate'])\n",
    "\n",
    "# Calculer la durée entre deux achats successifs pour chaque client\n",
    "df_r['DaysSinceLastPurchase'] = df_r.groupby('CustomerID')['InvoiceDate'].diff().dt.days\n",
    "df_nr['DaysSinceLastPurchase'] = df_nr.groupby('CustomerID')['InvoiceDate'].diff().dt.days\n",
    "\n",
    "# Remplacer les NaN par 0 pour le premier achat de chaque client \n",
    "df_r['DaysSinceLastPurchase'].fillna(0, inplace=True)\n",
    "df_nr['DaysSinceLastPurchase'].fillna(0, inplace=True)\n",
    "\n",
    "# Vérification rapide\n",
    "print(\"Aperçu des nouvelles variables dans df_r :\")\n",
    "print(df_r[['CustomerID', 'InvoiceDate', 'DaysSinceLastPurchase']].head(10))\n",
    "\n",
    "print(\"\\nAperçu des nouvelles variables dans df_nr :\")\n",
    "print(df_nr[['CustomerID', 'InvoiceDate', 'DaysSinceLastPurchase']].head(10))\n"
   ]
  },
  {
   "cell_type": "markdown",
   "id": "6269bed3-396e-44e0-b6dc-335ad9326bd8",
   "metadata": {},
   "source": [
    "# Etape 2 : Analyse RFM"
   ]
  },
  {
   "cell_type": "markdown",
   "id": "74e53d3d-4e58-4704-9d02-1c3ad0468e32",
   "metadata": {},
   "source": [
    "## Étapes de l'Analyse RFM\n",
    "\n",
    "    Calcul de la Récence (R) : Le nombre de jours écoulés depuis le dernier achat de chaque client par rapport à une date de référence (généralement la date la plus récente dans le dataset).\n",
    "    Calcul de la Fréquence (F) : Le nombre total de transactions pour chaque client.\n",
    "    Calcul du Montant (M) : Le montant total dépensé par chaque client."
   ]
  },
  {
   "cell_type": "code",
   "execution_count": 15,
   "id": "575428c8-8462-4fe0-a4a9-8ce3503f8955",
   "metadata": {},
   "outputs": [
    {
     "name": "stdout",
     "output_type": "stream",
     "text": [
      "Aperçu du dataframe RFM :\n",
      "            Recency  Frequency  Monetary\n",
      "CustomerID                              \n",
      "12346.0         325          1  77183.60\n",
      "12347.0           1          7   4310.00\n",
      "12348.0          74          4   1797.24\n",
      "12349.0          18          1   1757.55\n",
      "12350.0         309          1    334.40\n"
     ]
    }
   ],
   "source": [
    "# Concentrons nous d'abord sur df_nr\n",
    "# Calculer les Scores RFM\n",
    "\n",
    "# Vérifier si une colonne de montant total existe, sinon la créer\n",
    "if 'NetAmount' not in df_nr.columns:\n",
    "    df_nr['NetAmount'] = df_nr['Quantity'] * df_nr['UnitPrice']\n",
    "\n",
    "# Calcul des scores RFM en utilisant la colonne `NetAmount`\n",
    "reference_date = df_nr['InvoiceDate'].max()\n",
    "\n",
    "# Agréger les données pour chaque client\n",
    "rfm_df = df_nr.groupby('CustomerID').agg({\n",
    "    'InvoiceDate': lambda x: (reference_date - x.max()).days,  # Récence\n",
    "    'InvoiceNo': 'nunique',  # Fréquence\n",
    "    'NetAmount': 'sum'       # Montant total\n",
    "})\n",
    "\n",
    "# Renommer les colonnes\n",
    "rfm_df.rename(columns={'InvoiceDate': 'Recency', 'InvoiceNo': 'Frequency', 'NetAmount': 'Monetary'}, inplace=True)\n",
    "\n",
    "# Vérification du dataframe RFM\n",
    "print(\"Aperçu du dataframe RFM :\")\n",
    "print(rfm_df.head())\n",
    "\n"
   ]
  },
  {
   "cell_type": "code",
   "execution_count": 16,
   "id": "f2f97da7-2b23-4e42-9653-1cef4ae6b7ba",
   "metadata": {},
   "outputs": [
    {
     "name": "stdout",
     "output_type": "stream",
     "text": [
      "Aperçu des scores RFM :\n",
      "            Recency  Frequency  Monetary  R_Score  F_Score  M_Score RFM_Score\n",
      "CustomerID                                                                   \n",
      "12346.0         325          1  77183.60        1        1        5       115\n",
      "12347.0           1          7   4310.00        5        5        5       555\n",
      "12348.0          74          4   1797.24        2        4        4       244\n",
      "12349.0          18          1   1757.55        4        1        4       414\n",
      "12350.0         309          1    334.40        1        1        2       112\n"
     ]
    }
   ],
   "source": [
    "# Assignons un score de 1 à 5 pour chaque métrique (Recency, Frequency, Monetary) pour chaque client, où 5 est le score le plus favorable.\n",
    "\n",
    "# Fonction pour calculer les scores R, F, et M par quintile\n",
    "rfm_df['R_Score'] = pd.qcut(rfm_df['Recency'], 5, labels=[5, 4, 3, 2, 1]).astype(int)\n",
    "rfm_df['F_Score'] = pd.qcut(rfm_df['Frequency'].rank(method='first'), 5, labels=[1, 2, 3, 4, 5]).astype(int)\n",
    "rfm_df['M_Score'] = pd.qcut(rfm_df['Monetary'], 5, labels=[1, 2, 3, 4, 5]).astype(int)\n",
    "\n",
    "# Calculer le score RFM global en concaténant les scores individuels\n",
    "rfm_df['RFM_Score'] = rfm_df['R_Score'].astype(str) + rfm_df['F_Score'].astype(str) + rfm_df['M_Score'].astype(str)\n",
    "\n",
    "# Vérification\n",
    "print(\"Aperçu des scores RFM :\")\n",
    "print(rfm_df.head())\n"
   ]
  },
  {
   "cell_type": "markdown",
   "id": "e30150b2-ab5d-4826-9d7c-ccded2c00323",
   "metadata": {},
   "source": [
    "Maintenant que nous avons les scores RFM, nous pouvons créer des segments en fonction de ces scores. Par exemple, nous pourrions définir des segments comme suit :\n",
    "\n",
    "    Champions : RFM entre 555 et 455 (clients récents, fréquents, et ayant beaucoup dépensé )\n",
    "    Fidèles : RFM avec un score élevé de fréquence et de montant, mais un score de récence moyen (e.g., 354, 355)\n",
    "    Nouveaux : Score élevé de récence mais bas sur la fréquence et le montant\n",
    "    En Dormance : Faibles scores de récence, fréquence et montant."
   ]
  },
  {
   "cell_type": "code",
   "execution_count": 17,
   "id": "5f5ccb17-febd-4680-838a-4a2c667d3e36",
   "metadata": {},
   "outputs": [
    {
     "name": "stdout",
     "output_type": "stream",
     "text": [
      "Aperçu des segments de clients :\n",
      "           RFM_Score      Segment\n",
      "CustomerID                       \n",
      "12346.0          115  En Dormance\n",
      "12347.0          555    Champions\n",
      "12348.0          244       Autres\n",
      "12349.0          414       Autres\n",
      "12350.0          112  En Dormance\n",
      "12352.0          355       Autres\n",
      "12353.0          111  En Dormance\n",
      "12354.0          114  En Dormance\n",
      "12355.0          112  En Dormance\n",
      "12356.0          435       Autres\n"
     ]
    }
   ],
   "source": [
    "def segment_rfm(df):\n",
    "    if df['RFM_Score'] == '555' or df['RFM_Score'] == '455':\n",
    "        return 'Champions'\n",
    "    elif df['R_Score'] >= 4 and df['F_Score'] >= 4:\n",
    "        return 'Fidèles'\n",
    "    elif df['R_Score'] == 5 and df['F_Score'] <= 2 and df['M_Score'] <= 2:\n",
    "        return 'Nouveaux'\n",
    "    elif df['R_Score'] <= 2 and df['F_Score'] <= 2:\n",
    "        return 'En Dormance'\n",
    "    else:\n",
    "        return 'Autres'\n",
    "\n",
    "# Appliquer la fonction de segmentation\n",
    "rfm_df['Segment'] = rfm_df.apply(segment_rfm, axis=1)\n",
    "\n",
    "# Vérification des segments\n",
    "print(\"Aperçu des segments de clients :\")\n",
    "print(rfm_df[['RFM_Score', 'Segment']].head(10))\n"
   ]
  },
  {
   "cell_type": "markdown",
   "id": "5103f40c-f576-4e24-a3f4-454343623ffa",
   "metadata": {},
   "source": [
    "# Analysons à présent les segments\n",
    "\n",
    "## Cette analyse vous donnera des insights tels que :\n",
    "\n",
    "    Les segments les plus précieux en termes de dépenses totales.\n",
    "    Les segments les plus récents et ceux ayant la fréquence d'achat la plus élevée."
   ]
  },
  {
   "cell_type": "code",
   "execution_count": 18,
   "id": "b0a3b96c-d560-4789-a93a-aee9fbe2d589",
   "metadata": {},
   "outputs": [
    {
     "name": "stdout",
     "output_type": "stream",
     "text": [
      "Analyse des segments RFM :\n",
      "             Recency_mean  Frequency_mean  Monetary_mean  Monetary_total  \\\n",
      "Segment                                                                    \n",
      "Champions           10.16           15.76        9492.40      4993003.21   \n",
      "Autres              73.31            2.86        1183.05      2447737.50   \n",
      "Fidèles             14.16            5.03        1524.83       934720.70   \n",
      "En Dormance        216.90            1.10         487.71       519408.57   \n",
      "Nouveaux             6.09            1.14         250.57        16537.92   \n",
      "\n",
      "             Customer_count  \n",
      "Segment                      \n",
      "Champions               526  \n",
      "Autres                 2069  \n",
      "Fidèles                 613  \n",
      "En Dormance            1065  \n",
      "Nouveaux                 66  \n"
     ]
    }
   ],
   "source": [
    "# Compter le nombre de clients et calculer le montant total par segment\n",
    "segment_analysis = rfm_df.groupby('Segment').agg({\n",
    "    'Recency': 'mean',\n",
    "    'Frequency': 'mean',\n",
    "    'Monetary': ['mean', 'sum', 'count']\n",
    "}).round(2)\n",
    "\n",
    "# Renommer les colonnes pour plus de clarté\n",
    "segment_analysis.columns = ['Recency_mean', 'Frequency_mean', 'Monetary_mean', 'Monetary_total', 'Customer_count']\n",
    "\n",
    "# Trier les segments en fonction de la valeur monétaire totale\n",
    "segment_analysis = segment_analysis.sort_values(by='Monetary_total', ascending=False)\n",
    "\n",
    "print(\"Analyse des segments RFM :\")\n",
    "print(segment_analysis)\n"
   ]
  },
  {
   "cell_type": "markdown",
   "id": "bbe85cc7-a1e8-4754-81a3-86ba86fe9e17",
   "metadata": {},
   "source": [
    "# Visualisation des Segments pour une Meilleure Interprétation"
   ]
  },
  {
   "cell_type": "code",
   "execution_count": 19,
   "id": "81284245-5fe9-4ae7-a501-ba02380b3108",
   "metadata": {},
   "outputs": [
    {
     "name": "stderr",
     "output_type": "stream",
     "text": [
      "C:\\Users\\aubai\\AppData\\Local\\Temp\\ipykernel_71456\\998745312.py:3: FutureWarning: \n",
      "\n",
      "Passing `palette` without assigning `hue` is deprecated and will be removed in v0.14.0. Assign the `x` variable to `hue` and set `legend=False` for the same effect.\n",
      "\n",
      "  sns.countplot(data=rfm_df, x='Segment', order=rfm_df['Segment'].value_counts().index, palette='viridis')\n"
     ]
    },
    {
     "data": {
      "image/png": "[encoded data removed]",
      "text/plain": [
       "<Figure size 600x300 with 1 Axes>"
      ]
     },
     "metadata": {},
     "output_type": "display_data"
    },
    {
     "data": {
      "image/png": "[encoded data removed]",
      "text/plain": [
       "<Figure size 400x400 with 1 Axes>"
      ]
     },
     "metadata": {},
     "output_type": "display_data"
    }
   ],
   "source": [
    "# Histogramme du nombre de clients par segment\n",
    "plt.figure(figsize=(6, 3))\n",
    "sns.countplot(data=rfm_df, x='Segment', order=rfm_df['Segment'].value_counts().index, palette='viridis')\n",
    "plt.title(\"Nombre de clients par segment\")\n",
    "plt.xlabel(\"Segment\")\n",
    "plt.ylabel(\"Nombre de clients\")\n",
    "plt.xticks(rotation=45)\n",
    "plt.show()\n",
    "\n",
    "# Diagramme en Secteur pour la valeur monétaire totale par segment\n",
    "plt.figure(figsize=(4, 4))\n",
    "segment_analysis['Monetary_total'].plot.pie(autopct='%1.1f%%', colors=sns.color_palette(\"viridis\", len(segment_analysis)))\n",
    "plt.title(\"Part de la valeur monétaire totale par segment\")\n",
    "plt.ylabel(\"\")  # Masquer l'étiquette de l'axe y pour plus de clarté\n",
    "plt.show()\n"
   ]
  },
  {
   "cell_type": "markdown",
   "id": "e5d41dc8-50aa-43ab-a7c4-770dc1788c57",
   "metadata": {},
   "source": [
    "# Recommandations Stratégiques Basées sur les Segments\n",
    "\n",
    "À partir de l'analyse des segments RFM, vous pouvons établir des stratégies spécifiques pour chaque segment :\n",
    "\n",
    "Champions : Clients ayant des scores RFM élevés.\n",
    "## Stratégie : Fidélisation par des programmes VIP, récompenses pour leur loyauté, ou avant-premières sur les produits.\n",
    "\n",
    "Fidèles : Clients avec un score de fréquence et de montant élevés, mais un score de récence moyen.\n",
    "## Stratégie : Programmes de fidélité pour les inciter à acheter plus fréquemment.\n",
    "\n",
    "Nouveaux Clients : Clients avec un bon score de récence mais de faible fréquence et montant.\n",
    "## Stratégie : Offrir des promotions pour les encourager à faire d'autres achats et explorer plus de produits.\n",
    "\n",
    "Clients en Dormance : Clients ayant des scores faibles en récence, fréquence et montant.\n",
    "## Stratégie : Relance par des offres spéciales pour tenter de réactiver leur engagement."
   ]
  },
  {
   "cell_type": "markdown",
   "id": "a8dd3049-2da5-4c03-bfe3-bf3b6c9dde1c",
   "metadata": {},
   "source": [
    "# Toutefois, il serait interressant pour nous de voir ce qu'il en serait en tenant compte des retours de produits afin d'ajuster notre stratégie.\n",
    "## Analyse Comparative des Segments RFM entre df_nr et df_r"
   ]
  },
  {
   "cell_type": "code",
   "execution_count": 20,
   "id": "fc5768b2-ae70-4f1c-b891-a31a1936e41a",
   "metadata": {},
   "outputs": [
    {
     "name": "stdout",
     "output_type": "stream",
     "text": [
      "Comparaison des segments entre df_nr et df_r :\n",
      "             Recency_mean_nr  Frequency_mean_nr  Monetary_mean_nr  \\\n",
      "Segment                                                             \n",
      "Autres                 73.31               2.86           1183.05   \n",
      "Champions              10.16              15.76           9492.40   \n",
      "En Dormance           216.90               1.10            487.71   \n",
      "Fidèles                14.16               5.03           1524.83   \n",
      "Nouveaux                6.09               1.14            250.57   \n",
      "\n",
      "             Monetary_total_nr  Customer_count_nr  Recency_mean_r  \\\n",
      "Segment                                                             \n",
      "Autres              2447737.50               2069           94.61   \n",
      "Champions           4993003.21                526            4.28   \n",
      "En Dormance          519408.57               1065             NaN   \n",
      "Fidèles              934720.70                613           14.00   \n",
      "Nouveaux              16537.92                 66             NaN   \n",
      "\n",
      "             Frequency_mean_r  Monetary_mean_r  Monetary_total_r  \\\n",
      "Segment                                                            \n",
      "Autres                   3.66          1179.78        3568835.76   \n",
      "Champions               16.02          7393.52        4236489.61   \n",
      "En Dormance               NaN              NaN               NaN   \n",
      "Fidèles                  4.55          1134.63         217848.23   \n",
      "Nouveaux                  NaN              NaN               NaN   \n",
      "\n",
      "             Customer_count_r  \n",
      "Segment                        \n",
      "Autres                 3025.0  \n",
      "Champions               573.0  \n",
      "En Dormance               NaN  \n",
      "Fidèles                 192.0  \n",
      "Nouveaux                  NaN  \n"
     ]
    }
   ],
   "source": [
    "# Faisons pareil pour df_r\n",
    "#  Calcul des Scores RFM pour df_r\n",
    "\n",
    "# Date de référence pour df_r (généralement la date la plus récente)\n",
    "reference_date_r = df_r['InvoiceDate'].max()\n",
    "\n",
    "# Créer la colonne NetAmount pour df_r si elle n'existe pas\n",
    "if 'NetAmount' not in df_r.columns:\n",
    "    df_r['NetAmount'] = df_r['Quantity'] * df_r['UnitPrice']\n",
    "\n",
    "# Calcul RFM pour df_r\n",
    "rfm_df_r = df_r.groupby('CustomerID').agg({\n",
    "    'InvoiceDate': lambda x: (reference_date_r - x.max()).days,  # Récence\n",
    "    'InvoiceNo': 'nunique',  # Fréquence\n",
    "    'NetAmount': 'sum'       # Montant total\n",
    "})\n",
    "\n",
    "# Renommer les colonnes pour plus de clarté\n",
    "rfm_df_r.rename(columns={'InvoiceDate': 'Recency', 'InvoiceNo': 'Frequency', 'NetAmount': 'Monetary'}, inplace=True)\n",
    "\n",
    "# Scoring RFM pour df_r\n",
    "rfm_df_r['R_Score'] = pd.qcut(rfm_df_r['Recency'], 5, labels=[5, 4, 3, 2, 1]).astype(int)\n",
    "rfm_df_r['F_Score'] = pd.qcut(rfm_df_r['Frequency'].rank(method='first'), 5, labels=[1, 2, 3, 4, 5]).astype(int)\n",
    "rfm_df_r['M_Score'] = pd.qcut(rfm_df_r['Monetary'], 5, labels=[1, 2, 3, 4, 5]).astype(int)\n",
    "\n",
    "# Calcul du score RFM global pour df_r\n",
    "rfm_df_r['RFM_Score'] = rfm_df_r['R_Score'].astype(str) + rfm_df_r['F_Score'].astype(str) + rfm_df_r['M_Score'].astype(str)\n",
    "\n",
    "# Déterminer les segments dans df_r comme nous l'avons fait pour df_nr\n",
    "def assign_segment(rfm_score):\n",
    "    if rfm_score in [\"555\", \"554\", \"545\", \"544\"]:  # Champions\n",
    "        return \"Champions\"\n",
    "    elif rfm_score in [\"543\", \"534\", \"444\"]:      # Fidèles\n",
    "        return \"Fidèles\"\n",
    "    elif rfm_score in [\"344\", \"334\", \"333\"]:      # Nouveaux Clients\n",
    "        return \"Nouveaux Clients\"\n",
    "    elif rfm_score in [\"111\", \"112\", \"211\"]:      # Clients en Dormance\n",
    "        return \"Clients en Dormance\"\n",
    "    else:\n",
    "        return \"Autres\"\n",
    "\n",
    "# Appliquer la fonction de segmentation\n",
    "rfm_df_r['Segment'] = rfm_df_r['RFM_Score'].apply(assign_segment)\n",
    "\n",
    "\n",
    "# Analyse Comparative des Segments RFM entre df_nr et df_r\n",
    "\n",
    "# Analyse des segments pour df_nr\n",
    "segment_analysis_nr = rfm_df.groupby('Segment').agg({\n",
    "    'Recency': 'mean',\n",
    "    'Frequency': 'mean',\n",
    "    'Monetary': ['mean', 'sum', 'count']\n",
    "}).round(2)\n",
    "segment_analysis_nr.columns = ['Recency_mean', 'Frequency_mean', 'Monetary_mean', 'Monetary_total', 'Customer_count']\n",
    "\n",
    "# Analyse des segments pour df_r\n",
    "segment_analysis_r = rfm_df_r.groupby('Segment').agg({\n",
    "    'Recency': 'mean',\n",
    "    'Frequency': 'mean',\n",
    "    'Monetary': ['mean', 'sum', 'count']\n",
    "}).round(2)\n",
    "segment_analysis_r.columns = ['Recency_mean', 'Frequency_mean', 'Monetary_mean', 'Monetary_total', 'Customer_count']\n",
    "\n",
    "# Comparaison des deux analyses\n",
    "comparison_df = segment_analysis_nr.join(segment_analysis_r, lsuffix='_nr', rsuffix='_r')\n",
    "print(\"Comparaison des segments entre df_nr et df_r :\")\n",
    "print(comparison_df)\n"
   ]
  },
  {
   "cell_type": "markdown",
   "id": "7d7250f3-cd21-4927-b924-188efe0eeecb",
   "metadata": {},
   "source": [
    "## Après étude comparative, des récommandations supplémentaires s'imposent:\n",
    "\n",
    "Pour les \"Champions\" avec retour :\n",
    "\n",
    "    Programmes de fidélité : Leur proposer des avantages pour les remercier de leur fidélité malgré les retours.\n",
    "    Assistance dédiée : Leur offrir un support client proactif pour minimiser les retours.\n",
    "\n",
    "Pour les \"Fidèles\" avec retour :\n",
    "\n",
    "    Informations produits : S'assurer que toutes les informations (taille, description) sont précises pour réduire l'insatisfaction.\n",
    "    Retours simplifiés : Offrir des politiques de retour transparentes pour éviter la perte de leur fidélité.\n",
    "\n",
    "Pour le segment \"Autres\" avec retour :\n",
    "\n",
    "    Campagnes de réengagement : Encourager ces clients à acheter plus régulièrement et réduire les retours par des recommandations produits.\n",
    "    Programmes de conversion : Les guider vers des segments de plus grande fidélité (comme les \"Champions\") grâce à des offres adaptées.\n",
    "\n",
    "Analyse approfondie des Nouveaux Clients :\n",
    "\n",
    "    Un retour parmi les nouveaux clients peut indiquer un problème d’alignement entre les attentes et l'expérience réelle du produit. Améliorer la première impression de l’entreprise pourrait réduire les retours pour cette catégorie."
   ]
  },
  {
   "cell_type": "markdown",
   "id": "f230b4d0-16a6-4137-b427-6e8c84c78b9d",
   "metadata": {},
   "source": [
    "# \tEtape 3: Modélisation Prédictive pour la CLV\n",
    "## \tObjectif : Utiliser des techniques de machine learning pour prédire la CLV de chaque segment."
   ]
  },
  {
   "cell_type": "code",
   "execution_count": 21,
   "id": "d66c3ff3-15ff-45ea-b5d7-d6d55652f25b",
   "metadata": {},
   "outputs": [],
   "source": [
    "# importons les autres bibliothèques nécessaires\n",
    "from sklearn.model_selection import train_test_split\n",
    "from sklearn.linear_model import LinearRegression\n",
    "from sklearn.ensemble import RandomForestRegressor\n",
    "from sklearn.metrics import mean_squared_error, mean_absolute_error, r2_score"
   ]
  },
  {
   "cell_type": "code",
   "execution_count": 22,
   "id": "9651ea0d-1397-4847-8971-c5018a73086f",
   "metadata": {},
   "outputs": [
    {
     "data": {
      "text/html": [
       "<div>\n",
       "<style scoped>\n",
       "    .dataframe tbody tr th:only-of-type {\n",
       "        vertical-align: middle;\n",
       "    }\n",
       "\n",
       "    .dataframe tbody tr th {\n",
       "        vertical-align: top;\n",
       "    }\n",
       "\n",
       "    .dataframe thead th {\n",
       "        text-align: right;\n",
       "    }\n",
       "</style>\n",
       "<table border=\"1\" class=\"dataframe\">\n",
       "  <thead>\n",
       "    <tr style=\"text-align: right;\">\n",
       "      <th></th>\n",
       "      <th>Recency</th>\n",
       "      <th>Frequency</th>\n",
       "      <th>Monetary</th>\n",
       "      <th>R_Score</th>\n",
       "      <th>F_Score</th>\n",
       "      <th>M_Score</th>\n",
       "      <th>RFM_Score</th>\n",
       "      <th>Segment</th>\n",
       "    </tr>\n",
       "    <tr>\n",
       "      <th>CustomerID</th>\n",
       "      <th></th>\n",
       "      <th></th>\n",
       "      <th></th>\n",
       "      <th></th>\n",
       "      <th></th>\n",
       "      <th></th>\n",
       "      <th></th>\n",
       "      <th></th>\n",
       "    </tr>\n",
       "  </thead>\n",
       "  <tbody>\n",
       "    <tr>\n",
       "      <th>12346.0</th>\n",
       "      <td>325</td>\n",
       "      <td>1</td>\n",
       "      <td>77183.60</td>\n",
       "      <td>1</td>\n",
       "      <td>1</td>\n",
       "      <td>5</td>\n",
       "      <td>115</td>\n",
       "      <td>En Dormance</td>\n",
       "    </tr>\n",
       "    <tr>\n",
       "      <th>12347.0</th>\n",
       "      <td>1</td>\n",
       "      <td>7</td>\n",
       "      <td>4310.00</td>\n",
       "      <td>5</td>\n",
       "      <td>5</td>\n",
       "      <td>5</td>\n",
       "      <td>555</td>\n",
       "      <td>Champions</td>\n",
       "    </tr>\n",
       "    <tr>\n",
       "      <th>12348.0</th>\n",
       "      <td>74</td>\n",
       "      <td>4</td>\n",
       "      <td>1797.24</td>\n",
       "      <td>2</td>\n",
       "      <td>4</td>\n",
       "      <td>4</td>\n",
       "      <td>244</td>\n",
       "      <td>Autres</td>\n",
       "    </tr>\n",
       "    <tr>\n",
       "      <th>12349.0</th>\n",
       "      <td>18</td>\n",
       "      <td>1</td>\n",
       "      <td>1757.55</td>\n",
       "      <td>4</td>\n",
       "      <td>1</td>\n",
       "      <td>4</td>\n",
       "      <td>414</td>\n",
       "      <td>Autres</td>\n",
       "    </tr>\n",
       "    <tr>\n",
       "      <th>12350.0</th>\n",
       "      <td>309</td>\n",
       "      <td>1</td>\n",
       "      <td>334.40</td>\n",
       "      <td>1</td>\n",
       "      <td>1</td>\n",
       "      <td>2</td>\n",
       "      <td>112</td>\n",
       "      <td>En Dormance</td>\n",
       "    </tr>\n",
       "  </tbody>\n",
       "</table>\n",
       "</div>"
      ],
      "text/plain": [
       "            Recency  Frequency  Monetary  R_Score  F_Score  M_Score RFM_Score  \\\n",
       "CustomerID                                                                      \n",
       "12346.0         325          1  77183.60        1        1        5       115   \n",
       "12347.0           1          7   4310.00        5        5        5       555   \n",
       "12348.0          74          4   1797.24        2        4        4       244   \n",
       "12349.0          18          1   1757.55        4        1        4       414   \n",
       "12350.0         309          1    334.40        1        1        2       112   \n",
       "\n",
       "                Segment  \n",
       "CustomerID               \n",
       "12346.0     En Dormance  \n",
       "12347.0       Champions  \n",
       "12348.0          Autres  \n",
       "12349.0          Autres  \n",
       "12350.0     En Dormance  "
      ]
     },
     "execution_count": 22,
     "metadata": {},
     "output_type": "execute_result"
    }
   ],
   "source": [
    "rfm_df.head()"
   ]
  },
  {
   "cell_type": "code",
   "execution_count": 23,
   "id": "c0e5dee9-e687-4e2f-bf5f-b4d1bbf861a1",
   "metadata": {},
   "outputs": [
    {
     "data": {
      "text/html": [
       "<div>\n",
       "<style scoped>\n",
       "    .dataframe tbody tr th:only-of-type {\n",
       "        vertical-align: middle;\n",
       "    }\n",
       "\n",
       "    .dataframe tbody tr th {\n",
       "        vertical-align: top;\n",
       "    }\n",
       "\n",
       "    .dataframe thead th {\n",
       "        text-align: right;\n",
       "    }\n",
       "</style>\n",
       "<table border=\"1\" class=\"dataframe\">\n",
       "  <thead>\n",
       "    <tr style=\"text-align: right;\">\n",
       "      <th></th>\n",
       "      <th>InvoiceNo</th>\n",
       "      <th>StockCode</th>\n",
       "      <th>Description</th>\n",
       "      <th>Quantity</th>\n",
       "      <th>InvoiceDate</th>\n",
       "      <th>UnitPrice</th>\n",
       "      <th>CustomerID</th>\n",
       "      <th>Country</th>\n",
       "      <th>FirstPurchaseDate</th>\n",
       "      <th>CustomerAge</th>\n",
       "      <th>DaysSinceLastPurchase</th>\n",
       "      <th>NetAmount</th>\n",
       "    </tr>\n",
       "  </thead>\n",
       "  <tbody>\n",
       "    <tr>\n",
       "      <th>37126</th>\n",
       "      <td>541431</td>\n",
       "      <td>23166</td>\n",
       "      <td>MEDIUM CERAMIC TOP STORAGE JAR</td>\n",
       "      <td>74215</td>\n",
       "      <td>2011-01-18 10:01:00</td>\n",
       "      <td>1.04</td>\n",
       "      <td>12346.0</td>\n",
       "      <td>United Kingdom</td>\n",
       "      <td>2011-01-18 10:01:00</td>\n",
       "      <td>0</td>\n",
       "      <td>0.0</td>\n",
       "      <td>77183.6</td>\n",
       "    </tr>\n",
       "    <tr>\n",
       "      <th>10516</th>\n",
       "      <td>537626</td>\n",
       "      <td>85116</td>\n",
       "      <td>BLACK CANDELABRA T-LIGHT HOLDER</td>\n",
       "      <td>12</td>\n",
       "      <td>2010-12-07 14:57:00</td>\n",
       "      <td>2.10</td>\n",
       "      <td>12347.0</td>\n",
       "      <td>Iceland</td>\n",
       "      <td>2010-12-07 14:57:00</td>\n",
       "      <td>0</td>\n",
       "      <td>0.0</td>\n",
       "      <td>25.2</td>\n",
       "    </tr>\n",
       "    <tr>\n",
       "      <th>10517</th>\n",
       "      <td>537626</td>\n",
       "      <td>22375</td>\n",
       "      <td>AIRLINE BAG VINTAGE JET SET BROWN</td>\n",
       "      <td>4</td>\n",
       "      <td>2010-12-07 14:57:00</td>\n",
       "      <td>4.25</td>\n",
       "      <td>12347.0</td>\n",
       "      <td>Iceland</td>\n",
       "      <td>2010-12-07 14:57:00</td>\n",
       "      <td>0</td>\n",
       "      <td>0.0</td>\n",
       "      <td>17.0</td>\n",
       "    </tr>\n",
       "    <tr>\n",
       "      <th>10518</th>\n",
       "      <td>537626</td>\n",
       "      <td>71477</td>\n",
       "      <td>COLOUR GLASS. STAR T-LIGHT HOLDER</td>\n",
       "      <td>12</td>\n",
       "      <td>2010-12-07 14:57:00</td>\n",
       "      <td>3.25</td>\n",
       "      <td>12347.0</td>\n",
       "      <td>Iceland</td>\n",
       "      <td>2010-12-07 14:57:00</td>\n",
       "      <td>0</td>\n",
       "      <td>0.0</td>\n",
       "      <td>39.0</td>\n",
       "    </tr>\n",
       "    <tr>\n",
       "      <th>10519</th>\n",
       "      <td>537626</td>\n",
       "      <td>22492</td>\n",
       "      <td>MINI PAINT SET VINTAGE</td>\n",
       "      <td>36</td>\n",
       "      <td>2010-12-07 14:57:00</td>\n",
       "      <td>0.65</td>\n",
       "      <td>12347.0</td>\n",
       "      <td>Iceland</td>\n",
       "      <td>2010-12-07 14:57:00</td>\n",
       "      <td>0</td>\n",
       "      <td>0.0</td>\n",
       "      <td>23.4</td>\n",
       "    </tr>\n",
       "  </tbody>\n",
       "</table>\n",
       "</div>"
      ],
      "text/plain": [
       "      InvoiceNo StockCode                        Description  Quantity  \\\n",
       "37126    541431     23166     MEDIUM CERAMIC TOP STORAGE JAR     74215   \n",
       "10516    537626     85116    BLACK CANDELABRA T-LIGHT HOLDER        12   \n",
       "10517    537626     22375  AIRLINE BAG VINTAGE JET SET BROWN         4   \n",
       "10518    537626     71477  COLOUR GLASS. STAR T-LIGHT HOLDER        12   \n",
       "10519    537626     22492            MINI PAINT SET VINTAGE         36   \n",
       "\n",
       "              InvoiceDate  UnitPrice  CustomerID         Country  \\\n",
       "37126 2011-01-18 10:01:00       1.04     12346.0  United Kingdom   \n",
       "10516 2010-12-07 14:57:00       2.10     12347.0         Iceland   \n",
       "10517 2010-12-07 14:57:00       4.25     12347.0         Iceland   \n",
       "10518 2010-12-07 14:57:00       3.25     12347.0         Iceland   \n",
       "10519 2010-12-07 14:57:00       0.65     12347.0         Iceland   \n",
       "\n",
       "        FirstPurchaseDate  CustomerAge  DaysSinceLastPurchase  NetAmount  \n",
       "37126 2011-01-18 10:01:00            0                    0.0    77183.6  \n",
       "10516 2010-12-07 14:57:00            0                    0.0       25.2  \n",
       "10517 2010-12-07 14:57:00            0                    0.0       17.0  \n",
       "10518 2010-12-07 14:57:00            0                    0.0       39.0  \n",
       "10519 2010-12-07 14:57:00            0                    0.0       23.4  "
      ]
     },
     "execution_count": 23,
     "metadata": {},
     "output_type": "execute_result"
    }
   ],
   "source": [
    "df_nr.head()"
   ]
  },
  {
   "cell_type": "code",
   "execution_count": 24,
   "id": "f97fffa9-c279-4e7a-82cc-e2973c92c53e",
   "metadata": {},
   "outputs": [
    {
     "name": "stdout",
     "output_type": "stream",
     "text": [
      "   CustomerID  Recency  Frequency  Monetary  R_Score  F_Score  M_Score  \\\n",
      "0     12346.0      325          1  77183.60        1        1        5   \n",
      "1     12347.0        1          7   4310.00        5        5        5   \n",
      "2     12348.0       74          4   1797.24        2        4        4   \n",
      "3     12349.0       18          1   1757.55        4        1        4   \n",
      "4     12350.0      309          1    334.40        1        1        2   \n",
      "\n",
      "  RFM_Score      Segment       CLV  \n",
      "0       115  En Dormance  77183.60  \n",
      "1       555    Champions   4310.00  \n",
      "2       244       Autres   1797.24  \n",
      "3       414       Autres   1757.55  \n",
      "4       112  En Dormance    334.40  \n"
     ]
    },
    {
     "name": "stderr",
     "output_type": "stream",
     "text": [
      "C:\\Users\\aubai\\AppData\\Local\\Temp\\ipykernel_71456\\534305593.py:11: FutureWarning: A value is trying to be set on a copy of a DataFrame or Series through chained assignment using an inplace method.\n",
      "The behavior will change in pandas 3.0. This inplace method will never work because the intermediate object on which we are setting values always behaves as a copy.\n",
      "\n",
      "For example, when doing 'df[col].method(value, inplace=True)', try using 'df.method({col: value}, inplace=True)' or df[col] = df[col].method(value) instead, to perform the operation inplace on the original object.\n",
      "\n",
      "\n",
      "  rfm_df['CLV'].fillna(0, inplace=True)\n"
     ]
    }
   ],
   "source": [
    "# Calculer la CLV Historique et Préparer les Données\n",
    "\n",
    "# Calcul de la CLV historique pour chaque client dans df_nr\n",
    "clv_historique = df_nr.groupby('CustomerID')['NetAmount'].sum().rename('CLV').reset_index()\n",
    "\n",
    "# Fusionner clv_historique avec rfm_df\n",
    "# On utilise une fusion gauche pour garder tous les clients de rfm_df, même si certains n'ont pas de CLV\n",
    "rfm_df = rfm_df.merge(clv_historique, on='CustomerID', how='left')\n",
    "\n",
    "# Remplir les valeurs manquantes de CLV avec 0 (si un client n'a pas de transaction, sa CLV est 0)\n",
    "rfm_df['CLV'].fillna(0, inplace=True)\n",
    "\n",
    "# Vérification du DataFrame final avant la modélisation\n",
    "print(rfm_df.head())\n",
    "\n",
    "# Séparation des variables explicatives (features) et de la variable cible (target)\n",
    "X = rfm_df[['R_Score', 'F_Score', 'M_Score', 'Recency', 'Frequency', 'Monetary']]\n",
    "y = rfm_df['CLV']\n"
   ]
  },
  {
   "cell_type": "code",
   "execution_count": 25,
   "id": "618a95db-d2cd-42d0-b27f-a21c99811888",
   "metadata": {},
   "outputs": [],
   "source": [
    "# Division des données en ensemble d'entraînement et de test\n",
    "X_train, X_test, y_train, y_test = train_test_split(X, y, test_size=0.2, random_state=42)"
   ]
  },
  {
   "cell_type": "markdown",
   "id": "7a0015b9-6caf-49e4-858c-4b13daa16fb4",
   "metadata": {},
   "source": [
    "# Modélisation de la CLV avec Régression Linéaire"
   ]
  },
  {
   "cell_type": "code",
   "execution_count": 26,
   "id": "19ee2a94-f481-4ad3-92b5-08aeb469ff3c",
   "metadata": {},
   "outputs": [
    {
     "name": "stdout",
     "output_type": "stream",
     "text": [
      "Performances du modèle de régression linéaire :\n",
      "RMSE : 6.500915531073702e-12\n",
      "MAE : 1.7251863020588175e-12\n",
      "R² : 1.0\n"
     ]
    },
    {
     "name": "stderr",
     "output_type": "stream",
     "text": [
      "C:\\Users\\aubai\\anaconda3\\Lib\\site-packages\\sklearn\\metrics\\_regression.py:483: FutureWarning: 'squared' is deprecated in version 1.4 and will be removed in 1.6. To calculate the root mean squared error, use the function'root_mean_squared_error'.\n",
      "  warnings.warn(\n"
     ]
    }
   ],
   "source": [
    "\n",
    "# Initialiser et entraîner le modèle de régression linéaire\n",
    "linear_model = LinearRegression()\n",
    "linear_model.fit(X_train, y_train)\n",
    "\n",
    "# Prédictions sur l'ensemble de test\n",
    "y_pred_linear = linear_model.predict(X_test)\n",
    "\n",
    "# Évaluation des performances du modèle\n",
    "rmse_linear = mean_squared_error(y_test, y_pred_linear, squared=False)\n",
    "mae_linear = mean_absolute_error(y_test, y_pred_linear)\n",
    "r2_linear = r2_score(y_test, y_pred_linear)\n",
    "\n",
    "print(\"Performances du modèle de régression linéaire :\")\n",
    "print(f\"RMSE : {rmse_linear}\")\n",
    "print(f\"MAE : {mae_linear}\")\n",
    "print(f\"R² : {r2_linear}\")\n"
   ]
  },
  {
   "cell_type": "markdown",
   "id": "e2bfc646-d9e1-40b7-b0b1-5368d7760853",
   "metadata": {},
   "source": [
    "# Modélisation de la CLV avec XGBoost"
   ]
  },
  {
   "cell_type": "code",
   "execution_count": 27,
   "id": "fa1b29f6-a08d-4763-97e7-068be0eaab2f",
   "metadata": {},
   "outputs": [],
   "source": [
    "# !pip install xgboost"
   ]
  },
  {
   "cell_type": "code",
   "execution_count": 28,
   "id": "66aef6b9-4425-4ba5-9f43-d3c9ddc88bd9",
   "metadata": {},
   "outputs": [
    {
     "name": "stdout",
     "output_type": "stream",
     "text": [
      "\n",
      "Performances du modèle XGBoost :\n",
      "RMSE : 6797.388871163915\n",
      "MAE : 325.72073378813434\n",
      "R² : 0.4661548677391507\n"
     ]
    },
    {
     "name": "stderr",
     "output_type": "stream",
     "text": [
      "C:\\Users\\aubai\\anaconda3\\Lib\\site-packages\\sklearn\\metrics\\_regression.py:483: FutureWarning: 'squared' is deprecated in version 1.4 and will be removed in 1.6. To calculate the root mean squared error, use the function'root_mean_squared_error'.\n",
      "  warnings.warn(\n"
     ]
    }
   ],
   "source": [
    "from xgboost import XGBRegressor\n",
    "\n",
    "# Initialiser et entraîner le modèle XGBoost\n",
    "xgb_model = XGBRegressor(objective='reg:squarederror', random_state=42)\n",
    "xgb_model.fit(X_train, y_train)\n",
    "\n",
    "# Prédictions sur l'ensemble de test\n",
    "y_pred_xgb = xgb_model.predict(X_test)\n",
    "\n",
    "# Évaluation des performances du modèle\n",
    "rmse_xgb = mean_squared_error(y_test, y_pred_xgb, squared=False)\n",
    "mae_xgb = mean_absolute_error(y_test, y_pred_xgb)\n",
    "r2_xgb = r2_score(y_test, y_pred_xgb)\n",
    "\n",
    "print(\"\\nPerformances du modèle XGBoost :\")\n",
    "print(f\"RMSE : {rmse_xgb}\")\n",
    "print(f\"MAE : {mae_xgb}\")\n",
    "print(f\"R² : {r2_xgb}\")"
   ]
  },
  {
   "cell_type": "code",
   "execution_count": 29,
   "id": "86f10404-dcd8-4073-87c2-898baf595a0a",
   "metadata": {},
   "outputs": [
    {
     "name": "stdout",
     "output_type": "stream",
     "text": [
      "Scores de validation croisée (régression linéaire) :  [1. 1. 1. 1. 1.]\n",
      "Score moyen (R²) :  1.0\n"
     ]
    }
   ],
   "source": [
    "from sklearn.model_selection import cross_val_score\n",
    "\n",
    "# Validation croisée pour la régression linéaire\n",
    "scores = cross_val_score(linear_model, X, y, scoring='r2', cv=5)\n",
    "print(\"Scores de validation croisée (régression linéaire) : \", scores)\n",
    "print(\"Score moyen (R²) : \", scores.mean())\n"
   ]
  },
  {
   "cell_type": "markdown",
   "id": "ab543fc5-6677-4d94-8b54-4d291e2d5002",
   "metadata": {},
   "source": [
    "## Il y'a un problème de surapprentissage avec la régression linéaire, nous n'allons pas le traiter mais plutot, l'on va se concentrer sur xgboost"
   ]
  },
  {
   "cell_type": "code",
   "execution_count": 30,
   "id": "78483bce-3a4b-4d00-9262-dccc001a060f",
   "metadata": {},
   "outputs": [
    {
     "name": "stdout",
     "output_type": "stream",
     "text": [
      "Fitting 5 folds for each of 432 candidates, totalling 2160 fits\n",
      "Meilleurs paramètres pour XGBoost : {'colsample_bytree': 0.6, 'learning_rate': 0.05, 'max_depth': 3, 'n_estimators': 100, 'subsample': 0.6}\n",
      "Meilleur score (RMSE) : 5092.570147995365\n"
     ]
    }
   ],
   "source": [
    "from sklearn.model_selection import GridSearchCV\n",
    "\n",
    "# Définir la grille de paramètres pour XGBoost\n",
    "param_grid = {\n",
    "    'learning_rate': [0.01, 0.05, 0.1, 0.2],\n",
    "    'max_depth': [3, 5, 7, 9],\n",
    "    'n_estimators': [100, 200, 300],\n",
    "    'subsample': [0.6, 0.8, 1.0],\n",
    "    'colsample_bytree': [0.6, 0.8, 1.0]\n",
    "}\n",
    "\n",
    "# Initialiser GridSearchCV avec XGBoost\n",
    "grid_search = GridSearchCV(\n",
    "    estimator=XGBRegressor(objective='reg:squarederror', random_state=42),\n",
    "    param_grid=param_grid,\n",
    "    scoring='neg_mean_squared_error',  # Utilisation de l'erreur quadratique moyenne comme critère\n",
    "    cv=5,\n",
    "    n_jobs=-1,\n",
    "    verbose=2\n",
    ")\n",
    "\n",
    "# Entraîner le modèle de recherche sur la grille\n",
    "grid_search.fit(X_train, y_train)\n",
    "\n",
    "# Afficher les meilleurs paramètres et le meilleur score\n",
    "print(\"Meilleurs paramètres pour XGBoost :\", grid_search.best_params_)\n",
    "print(\"Meilleur score (RMSE) :\", (-grid_search.best_score_)**0.5)\n"
   ]
  },
  {
   "cell_type": "code",
   "execution_count": 31,
   "id": "e925a60c-d53e-4a8d-b3f3-1d3c127f9074",
   "metadata": {},
   "outputs": [
    {
     "name": "stdout",
     "output_type": "stream",
     "text": [
      "\n",
      "Performances du modèle XGBoost optimisé sur l'ensemble de test :\n",
      "RMSE : 5242.750730214723\n",
      "MAE : 515.2342159696658\n",
      "R² : 0.6824226842643633\n"
     ]
    },
    {
     "name": "stderr",
     "output_type": "stream",
     "text": [
      "C:\\Users\\aubai\\anaconda3\\Lib\\site-packages\\sklearn\\metrics\\_regression.py:483: FutureWarning: 'squared' is deprecated in version 1.4 and will be removed in 1.6. To calculate the root mean squared error, use the function'root_mean_squared_error'.\n",
      "  warnings.warn(\n"
     ]
    }
   ],
   "source": [
    "\n",
    "# Initialiser le modèle XGBoost avec les meilleurs paramètres trouvés\n",
    "best_xgb = XGBRegressor(\n",
    "    objective='reg:squarederror',\n",
    "    learning_rate=0.05,       # meilleur learning_rate trouvé\n",
    "    max_depth=3,              # meilleure profondeur trouvée\n",
    "    n_estimators=100,         # meilleur nombre d'estimateurs\n",
    "    subsample=0.6,            # meilleure fraction d'échantillonnage\n",
    "    colsample_bytree=0.6,     # meilleure fraction de colonnes\n",
    "    random_state=42\n",
    ")\n",
    "\n",
    "# Entraîner le modèle sur l'ensemble d'entraînement\n",
    "best_xgb.fit(X_train, y_train)\n",
    "\n",
    "# Prédire les valeurs de CLV sur l'ensemble de test\n",
    "y_pred_test = best_xgb.predict(X_test)\n",
    "\n",
    "# Calcul des métriques de performance\n",
    "rmse_test = mean_squared_error(y_test, y_pred_test, squared=False)  # RMSE\n",
    "mae_test = mean_absolute_error(y_test, y_pred_test)                # MAE\n",
    "r2_test = r2_score(y_test, y_pred_test)                            # R²\n",
    "\n",
    "print(\"\\nPerformances du modèle XGBoost optimisé sur l'ensemble de test :\")\n",
    "print(f\"RMSE : {rmse_test}\")\n",
    "print(f\"MAE : {mae_test}\")\n",
    "print(f\"R² : {r2_test}\")\n"
   ]
  },
  {
   "cell_type": "markdown",
   "id": "2c6796f1-e63d-47bb-bd18-a0a3e0ceb679",
   "metadata": {},
   "source": [
    "## Les valeurs avant l'optimisation étaient les suivantes: RMSE = 6797.388871163915, MAE = 325.72073378813434, R² = 0.4661548677391507 , on note donc une très bonne amélioration du modèle: le modèle optimise bien ses prédictions et explique bien la variabilité de la CLV."
   ]
  },
  {
   "cell_type": "code",
   "execution_count": 32,
   "id": "367e6d5a-0ab1-4a3a-89b4-100376260ca2",
   "metadata": {},
   "outputs": [
    {
     "data": {
      "image/png": "[encoded data removed]",
      "text/plain": [
       "<Figure size 640x480 with 1 Axes>"
      ]
     },
     "metadata": {},
     "output_type": "display_data"
    }
   ],
   "source": [
    "# Pour comprendre les facteurs qui influencent le plus la CLV et orienter les stratégies:\n",
    "import xgboost as xgb\n",
    "\n",
    "# Extraire l'importance des variables\n",
    "xgb.plot_importance(best_xgb, importance_type='weight', max_num_features=10)\n",
    "plt.show()\n"
   ]
  },
  {
   "cell_type": "markdown",
   "id": "ddc3b4e0-67d5-40b0-a8cc-b554a50789e7",
   "metadata": {},
   "source": [
    "## Effectuons des prédictions de CLV"
   ]
  },
  {
   "cell_type": "code",
   "execution_count": 33,
   "id": "d0f74002-64a5-456d-a01d-9da6508b3938",
   "metadata": {},
   "outputs": [],
   "source": [
    "# Obtenir les Prédictions de CLV avec le Modèle Entraîné\n",
    "\n",
    "# Utiliser le modèle pour prédire la CLV sur l'ensemble des clients\n",
    "rfm_df['CLV_Pred'] = xgb_model.predict(X)  # X est le dataset des variables explicatives utilisé pour l’entraînement\n"
   ]
  },
  {
   "cell_type": "markdown",
   "id": "2ef67aab-4644-4518-ba05-f338dd3cff7d",
   "metadata": {},
   "source": [
    "## Segmentons les CLV prédites  "
   ]
  },
  {
   "cell_type": "code",
   "execution_count": 34,
   "id": "a252a69b-46f5-4116-86de-682e79689533",
   "metadata": {},
   "outputs": [
    {
     "name": "stdout",
     "output_type": "stream",
     "text": [
      "CLV_Pred_Category\n",
      "Haute_CLV_predite      1475\n",
      "Faible_CLV_predite     1432\n",
      "Moyenne_CLV_predite    1432\n",
      "Name: count, dtype: int64\n"
     ]
    }
   ],
   "source": [
    "\n",
    "# Définir les quantiles pour la segmentation en fonction de la distribution de la CLV prédite\n",
    "low_threshold = rfm_df['CLV_Pred'].quantile(0.33)   # 33ème percentile pour segment \"Faible\"\n",
    "high_threshold = rfm_df['CLV_Pred'].quantile(0.66)  # 66ème percentile pour segment \"Haute\"\n",
    "\n",
    "# Appliquer la segmentation basée sur les quantiles\n",
    "def categorize_clv(clv_value):\n",
    "    if clv_value <= low_threshold:\n",
    "        return 'Faible_CLV_predite'\n",
    "    elif clv_value <= high_threshold:\n",
    "        return 'Moyenne_CLV_predite'\n",
    "    else:\n",
    "        return 'Haute_CLV_predite'\n",
    "\n",
    "# Créer la colonne CLV_Pred_Category en appliquant la fonction de segmentation\n",
    "rfm_df['CLV_Pred_Category'] = rfm_df['CLV_Pred'].apply(categorize_clv)\n",
    "\n",
    "# Vérification de la distribution des catégories\n",
    "print(rfm_df['CLV_Pred_Category'].value_counts())\n"
   ]
  },
  {
   "cell_type": "markdown",
   "id": "1a780b79-c0e9-4ab7-97a4-3a84e61dc364",
   "metadata": {},
   "source": [
    "## Combinons les segmentation RFM et CLV"
   ]
  },
  {
   "cell_type": "code",
   "execution_count": 35,
   "id": "333ddda1-f6a8-40e1-b05d-93429b02710e",
   "metadata": {},
   "outputs": [
    {
     "name": "stdout",
     "output_type": "stream",
     "text": [
      "Segment_Marketing\n",
      "Dormants - Faible CLV Prédite                1378\n",
      "Champions - Haute CLV Prédite                1234\n",
      "Récents à Potentiel - Moyenne CLV Prédite     757\n",
      "Autres                                        487\n",
      "Champions - Moyenne CLV Prédite               448\n",
      "Nouveaux à Fort Potentiel                      35\n",
      "Name: count, dtype: int64\n"
     ]
    }
   ],
   "source": [
    "# Segmentation combinée des scores RFM et CLV\n",
    "def segment_combined(row):\n",
    "    if row['F_Score'] >= 4 and row['CLV_Pred_Category'] == 'Haute_CLV_predite':\n",
    "        return 'Champions - Haute CLV Prédite'\n",
    "    elif row['F_Score'] >= 4 and row['CLV_Pred_Category'] == 'Moyenne_CLV_predite':\n",
    "        return 'Champions - Moyenne CLV Prédite'\n",
    "    elif row['F_Score'] < 4 and row['CLV_Pred_Category'] == 'Faible_CLV_predite':\n",
    "        return 'Dormants - Faible CLV Prédite'\n",
    "    elif row['F_Score'] >= 2 and row['CLV_Pred_Category'] == 'Moyenne_CLV_predite':\n",
    "        return 'Récents à Potentiel - Moyenne CLV Prédite'\n",
    "    elif row['F_Score'] < 2 and row['CLV_Pred_Category'] == 'Haute_CLV_predite':\n",
    "        return 'Nouveaux à Fort Potentiel'\n",
    "    else:\n",
    "        return 'Autres'\n",
    "\n",
    "# Appliquer la segmentation combinée\n",
    "rfm_df['Segment_Marketing'] = rfm_df.apply(segment_combined, axis=1)\n",
    "\n",
    "# Vérification des catégories\n",
    "print(rfm_df['Segment_Marketing'].value_counts())"
   ]
  },
  {
   "cell_type": "markdown",
   "id": "052e295d-290a-4053-aa36-7ddf95267744",
   "metadata": {},
   "source": [
    "## Créeons un dictionnaire pour stocker nos stratégies par segment"
   ]
  },
  {
   "cell_type": "code",
   "execution_count": 36,
   "id": "dc088f2d-bc2a-490b-9f93-ae02755a2a25",
   "metadata": {},
   "outputs": [
    {
     "name": "stdout",
     "output_type": "stream",
     "text": [
      "{'Champions - Haute CLV Prédite': 'Offres VIP et programmes de fidélité exclusifs', 'Champions - Moyenne CLV Prédite': 'Incitations ciblées pour augmenter fréquence/montant', 'Dormants - Faible CLV Prédite': 'Campagnes de réengagement ponctuelles', 'Récents à Potentiel - Moyenne CLV Prédite': 'Offres de bienvenue et suivi intensif', 'Nouveaux à Fort Potentiel': 'Expérience d’accueil personnalisée et suivi VIP', 'Autres': 'Campagnes de faible coût, surveiller évolutions'}\n"
     ]
    }
   ],
   "source": [
    "# Dictionnaire associant chaque segment à une stratégie\n",
    "strategies = {\n",
    "    'Champions - Haute CLV Prédite': 'Offres VIP et programmes de fidélité exclusifs',\n",
    "    'Champions - Moyenne CLV Prédite': 'Incitations ciblées pour augmenter fréquence/montant',\n",
    "    'Dormants - Faible CLV Prédite': 'Campagnes de réengagement ponctuelles',\n",
    "    'Récents à Potentiel - Moyenne CLV Prédite': 'Offres de bienvenue et suivi intensif',\n",
    "    'Nouveaux à Fort Potentiel': 'Expérience d’accueil personnalisée et suivi VIP',\n",
    "    'Autres': 'Campagnes de faible coût, surveiller évolutions'\n",
    "}\n",
    "\n",
    "# Appliquer la stratégie en fonction des segments\n",
    "rfm_df['Marketing_Strategy'] = rfm_df['Segment_Marketing'].map(strategies)\n",
    "print(strategies)"
   ]
  },
  {
   "cell_type": "markdown",
   "id": "0b3c6aa0-a00a-4636-818f-51b8121726b5",
   "metadata": {},
   "source": [
    "# Analyse Finale\n",
    "\n",
    "## Avec ces segments, voici les grandes orientations :\n",
    "\n",
    " Stratégies Marketing Basées sur les Segments\n",
    "\n",
    "\n",
    "    Champions - Haute CLV Prédite\n",
    "        Description : Clients fidèles avec un potentiel de CLV élevé.\n",
    "        Stratégie : Proposez des offres VIP, des programmes de fidélité exclusifs, et des récompenses pour la rétention. Ils sont au cœur des priorités de fidélisation.\n",
    "\n",
    "    Champions - Moyenne CLV Prédite\n",
    "        Description : Clients fidèles avec un potentiel de valeur moyen.\n",
    "        Stratégie : Offrez des incitations ciblées pour augmenter la fréquence ou le montant des achats, comme des points de fidélité supplémentaires ou des offres groupées.\n",
    "\n",
    "    Dormants - Faible CLV Prédite\n",
    "        Description : Clients ayant un faible engagement et une faible CLV.\n",
    "        Stratégie : Réduisez les coûts d'acquisition sur ce segment. Proposez des campagnes de réengagement ponctuelles pour mesurer leur réactivité, sans surinvestir.\n",
    "\n",
    "    Récents à Potentiel - Moyenne CLV Prédite\n",
    "        Description : Clients récents ayant une CLV moyenne. Potentiel de croissance en engagement.\n",
    "        Stratégie : Favorisez l’engagement avec des offres de bienvenue, des remises sur les achats futurs, et un suivi client intensif. L’objectif est d’augmenter la fréquence d’achat.\n",
    "\n",
    "    Nouveaux à Fort Potentiel\n",
    "        Description : Nouveaux clients avec un potentiel de CLV élevé.\n",
    "        Stratégie : Offrez une expérience d’accueil personnalisée. Un suivi VIP, des réductions sur les prochains achats, et des campagnes de rétention peuvent transformer ces clients en fidèles à haute valeur.\n",
    "\n",
    "    Autres\n",
    "        Description : Segment moins prioritaire pour les investissements marketing.\n",
    "        Stratégie : Utilisez des campagnes de faible coût et évaluez les réponses. Limitez les offres spéciales mais surveillez les évolutions de leur comportement d'achat pour des réajustements potentiels."
   ]
  },
  {
   "cell_type": "code",
   "execution_count": 37,
   "id": "f3cfaf00-d529-4bee-bb96-60d99040b3e4",
   "metadata": {},
   "outputs": [
    {
     "data": {
      "text/html": [
       "<div>\n",
       "<style scoped>\n",
       "    .dataframe tbody tr th:only-of-type {\n",
       "        vertical-align: middle;\n",
       "    }\n",
       "\n",
       "    .dataframe tbody tr th {\n",
       "        vertical-align: top;\n",
       "    }\n",
       "\n",
       "    .dataframe thead th {\n",
       "        text-align: right;\n",
       "    }\n",
       "</style>\n",
       "<table border=\"1\" class=\"dataframe\">\n",
       "  <thead>\n",
       "    <tr style=\"text-align: right;\">\n",
       "      <th></th>\n",
       "      <th>CustomerID</th>\n",
       "      <th>Recency</th>\n",
       "      <th>Frequency</th>\n",
       "      <th>Monetary</th>\n",
       "      <th>R_Score</th>\n",
       "      <th>F_Score</th>\n",
       "      <th>M_Score</th>\n",
       "      <th>RFM_Score</th>\n",
       "      <th>Segment</th>\n",
       "      <th>CLV</th>\n",
       "      <th>CLV_Pred</th>\n",
       "      <th>CLV_Pred_Category</th>\n",
       "      <th>Segment_Marketing</th>\n",
       "      <th>Marketing_Strategy</th>\n",
       "    </tr>\n",
       "  </thead>\n",
       "  <tbody>\n",
       "    <tr>\n",
       "      <th>0</th>\n",
       "      <td>12346.0</td>\n",
       "      <td>325</td>\n",
       "      <td>1</td>\n",
       "      <td>77183.60</td>\n",
       "      <td>1</td>\n",
       "      <td>1</td>\n",
       "      <td>5</td>\n",
       "      <td>115</td>\n",
       "      <td>En Dormance</td>\n",
       "      <td>77183.60</td>\n",
       "      <td>77185.593750</td>\n",
       "      <td>Haute_CLV_predite</td>\n",
       "      <td>Nouveaux à Fort Potentiel</td>\n",
       "      <td>Expérience d’accueil personnalisée et suivi VIP</td>\n",
       "    </tr>\n",
       "    <tr>\n",
       "      <th>1</th>\n",
       "      <td>12347.0</td>\n",
       "      <td>1</td>\n",
       "      <td>7</td>\n",
       "      <td>4310.00</td>\n",
       "      <td>5</td>\n",
       "      <td>5</td>\n",
       "      <td>5</td>\n",
       "      <td>555</td>\n",
       "      <td>Champions</td>\n",
       "      <td>4310.00</td>\n",
       "      <td>4290.953125</td>\n",
       "      <td>Haute_CLV_predite</td>\n",
       "      <td>Champions - Haute CLV Prédite</td>\n",
       "      <td>Offres VIP et programmes de fidélité exclusifs</td>\n",
       "    </tr>\n",
       "    <tr>\n",
       "      <th>2</th>\n",
       "      <td>12348.0</td>\n",
       "      <td>74</td>\n",
       "      <td>4</td>\n",
       "      <td>1797.24</td>\n",
       "      <td>2</td>\n",
       "      <td>4</td>\n",
       "      <td>4</td>\n",
       "      <td>244</td>\n",
       "      <td>Autres</td>\n",
       "      <td>1797.24</td>\n",
       "      <td>1804.422974</td>\n",
       "      <td>Haute_CLV_predite</td>\n",
       "      <td>Champions - Haute CLV Prédite</td>\n",
       "      <td>Offres VIP et programmes de fidélité exclusifs</td>\n",
       "    </tr>\n",
       "    <tr>\n",
       "      <th>3</th>\n",
       "      <td>12349.0</td>\n",
       "      <td>18</td>\n",
       "      <td>1</td>\n",
       "      <td>1757.55</td>\n",
       "      <td>4</td>\n",
       "      <td>1</td>\n",
       "      <td>4</td>\n",
       "      <td>414</td>\n",
       "      <td>Autres</td>\n",
       "      <td>1757.55</td>\n",
       "      <td>1764.104736</td>\n",
       "      <td>Haute_CLV_predite</td>\n",
       "      <td>Nouveaux à Fort Potentiel</td>\n",
       "      <td>Expérience d’accueil personnalisée et suivi VIP</td>\n",
       "    </tr>\n",
       "    <tr>\n",
       "      <th>4</th>\n",
       "      <td>12350.0</td>\n",
       "      <td>309</td>\n",
       "      <td>1</td>\n",
       "      <td>334.40</td>\n",
       "      <td>1</td>\n",
       "      <td>1</td>\n",
       "      <td>2</td>\n",
       "      <td>112</td>\n",
       "      <td>En Dormance</td>\n",
       "      <td>334.40</td>\n",
       "      <td>330.742188</td>\n",
       "      <td>Faible_CLV_predite</td>\n",
       "      <td>Dormants - Faible CLV Prédite</td>\n",
       "      <td>Campagnes de réengagement ponctuelles</td>\n",
       "    </tr>\n",
       "  </tbody>\n",
       "</table>\n",
       "</div>"
      ],
      "text/plain": [
       "   CustomerID  Recency  Frequency  Monetary  R_Score  F_Score  M_Score  \\\n",
       "0     12346.0      325          1  77183.60        1        1        5   \n",
       "1     12347.0        1          7   4310.00        5        5        5   \n",
       "2     12348.0       74          4   1797.24        2        4        4   \n",
       "3     12349.0       18          1   1757.55        4        1        4   \n",
       "4     12350.0      309          1    334.40        1        1        2   \n",
       "\n",
       "  RFM_Score      Segment       CLV      CLV_Pred   CLV_Pred_Category  \\\n",
       "0       115  En Dormance  77183.60  77185.593750   Haute_CLV_predite   \n",
       "1       555    Champions   4310.00   4290.953125   Haute_CLV_predite   \n",
       "2       244       Autres   1797.24   1804.422974   Haute_CLV_predite   \n",
       "3       414       Autres   1757.55   1764.104736   Haute_CLV_predite   \n",
       "4       112  En Dormance    334.40    330.742188  Faible_CLV_predite   \n",
       "\n",
       "               Segment_Marketing  \\\n",
       "0      Nouveaux à Fort Potentiel   \n",
       "1  Champions - Haute CLV Prédite   \n",
       "2  Champions - Haute CLV Prédite   \n",
       "3      Nouveaux à Fort Potentiel   \n",
       "4  Dormants - Faible CLV Prédite   \n",
       "\n",
       "                                Marketing_Strategy  \n",
       "0  Expérience d’accueil personnalisée et suivi VIP  \n",
       "1   Offres VIP et programmes de fidélité exclusifs  \n",
       "2   Offres VIP et programmes de fidélité exclusifs  \n",
       "3  Expérience d’accueil personnalisée et suivi VIP  \n",
       "4            Campagnes de réengagement ponctuelles  "
      ]
     },
     "execution_count": 37,
     "metadata": {},
     "output_type": "execute_result"
    }
   ],
   "source": [
    "rfm_df.head()"
   ]
  },
  {
   "cell_type": "code",
   "execution_count": 38,
   "id": "abb6e20c-29bc-4ebc-b4e7-d3eecabd2034",
   "metadata": {},
   "outputs": [],
   "source": [
    "# Exporter le dataframe au format CSV\n",
    "rfm_df.to_csv('ProjetMarketing1.csv', index=False, encoding='utf-8')\n"
   ]
  },
  {
   "cell_type": "code",
   "execution_count": 39,
   "id": "bb4a3ee4-adfc-4c8f-b9a3-2b4e00adfeb3",
   "metadata": {},
   "outputs": [
    {
     "data": {
      "text/plain": [
       "(4339, 14)"
      ]
     },
     "execution_count": 39,
     "metadata": {},
     "output_type": "execute_result"
    }
   ],
   "source": [
    "rfm_df.shape"
   ]
  },
  {
   "cell_type": "code",
   "execution_count": 40,
   "id": "4105b2cc-287e-41c7-b85d-d20db504095d",
   "metadata": {},
   "outputs": [
    {
     "data": {
      "text/plain": [
       "Index(['CustomerID', 'Recency', 'Frequency', 'Monetary', 'R_Score', 'F_Score',\n",
       "       'M_Score', 'RFM_Score', 'Segment', 'CLV', 'CLV_Pred',\n",
       "       'CLV_Pred_Category', 'Segment_Marketing', 'Marketing_Strategy'],\n",
       "      dtype='object')"
      ]
     },
     "execution_count": 40,
     "metadata": {},
     "output_type": "execute_result"
    }
   ],
   "source": [
    "rfm_df.columns"
   ]
  },
  {
   "cell_type": "code",
   "execution_count": 43,
   "id": "75c17e7e-8951-4c05-96d0-169f95baaaee",
   "metadata": {},
   "outputs": [
    {
     "data": {
      "text/html": [
       "<div>\n",
       "<style scoped>\n",
       "    .dataframe tbody tr th:only-of-type {\n",
       "        vertical-align: middle;\n",
       "    }\n",
       "\n",
       "    .dataframe tbody tr th {\n",
       "        vertical-align: top;\n",
       "    }\n",
       "\n",
       "    .dataframe thead th {\n",
       "        text-align: right;\n",
       "    }\n",
       "</style>\n",
       "<table border=\"1\" class=\"dataframe\">\n",
       "  <thead>\n",
       "    <tr style=\"text-align: right;\">\n",
       "      <th></th>\n",
       "      <th>CustomerID</th>\n",
       "      <th>Recency</th>\n",
       "      <th>Frequency</th>\n",
       "      <th>Monetary</th>\n",
       "      <th>R_Score</th>\n",
       "      <th>F_Score</th>\n",
       "      <th>M_Score</th>\n",
       "      <th>RFM_Score</th>\n",
       "      <th>Segment</th>\n",
       "      <th>CLV</th>\n",
       "      <th>CLV_Pred</th>\n",
       "      <th>CLV_Pred_Category</th>\n",
       "      <th>Segment_Marketing</th>\n",
       "      <th>Marketing_Strategy</th>\n",
       "    </tr>\n",
       "  </thead>\n",
       "  <tbody>\n",
       "    <tr>\n",
       "      <th>6</th>\n",
       "      <td>12353.0</td>\n",
       "      <td>203</td>\n",
       "      <td>1</td>\n",
       "      <td>89.0</td>\n",
       "      <td>1</td>\n",
       "      <td>1</td>\n",
       "      <td>1</td>\n",
       "      <td>111</td>\n",
       "      <td>En Dormance</td>\n",
       "      <td>89.0</td>\n",
       "      <td>88.366043</td>\n",
       "      <td>Faible_CLV_predite</td>\n",
       "      <td>Dormants - Faible CLV Prédite</td>\n",
       "      <td>Campagnes de réengagement ponctuelles</td>\n",
       "    </tr>\n",
       "  </tbody>\n",
       "</table>\n",
       "</div>"
      ],
      "text/plain": [
       "   CustomerID  Recency  Frequency  Monetary  R_Score  F_Score  M_Score  \\\n",
       "6     12353.0      203          1      89.0        1        1        1   \n",
       "\n",
       "  RFM_Score      Segment   CLV   CLV_Pred   CLV_Pred_Category  \\\n",
       "6       111  En Dormance  89.0  88.366043  Faible_CLV_predite   \n",
       "\n",
       "               Segment_Marketing                     Marketing_Strategy  \n",
       "6  Dormants - Faible CLV Prédite  Campagnes de réengagement ponctuelles  "
      ]
     },
     "execution_count": 43,
     "metadata": {},
     "output_type": "execute_result"
    }
   ],
   "source": [
    "# df.loc[df['CustomerID'] == 12353, 'Column_Name'].values[0]\n",
    "rfm_df.loc[rfm_df['CustomerID'] == 12353]"
   ]
  },
  {
   "cell_type": "code",
   "execution_count": null,
   "id": "f0e4ec64-cd06-4979-9f65-d4ed2b6da32c",
   "metadata": {},
   "outputs": [],
   "source": []
  }
 ],
 "metadata": {
  "kernelspec": {
   "display_name": "Python 3 (ipykernel)",
   "language": "python",
   "name": "python3"
  },
  "language_info": {
   "codemirror_mode": {
    "name": "ipython",
    "version": 3
   },
   "file_extension": ".py",
   "mimetype": "text/x-python",
   "name": "python",
   "nbconvert_exporter": "python",
   "pygments_lexer": "ipython3",
   "version": "3.12.4"
  }
 },
 "nbformat": 4,
 "nbformat_minor": 5
}
